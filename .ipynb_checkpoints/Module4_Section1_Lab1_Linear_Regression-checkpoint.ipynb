{
 "cells": [
  {
   "cell_type": "markdown",
   "metadata": {
    "id": "_1divsBOMsIA"
   },
   "source": [
    "# Module 4\n",
    "## Section: Linear Regression"
   ]
  },
  {
   "cell_type": "markdown",
   "metadata": {
    "id": "T3W1StRBMsIF"
   },
   "source": [
    "## Lab 1: Introduction to Simple and Multivariate Linear Regression"
   ]
  },
  {
   "cell_type": "markdown",
   "metadata": {
    "id": "fyIuXy7xMsIF"
   },
   "source": [
    "\n",
    "### Why Linear Regression?\n",
    "***\n",
    "\n",
    "First, regression might be used to identify the strength of the effect that the independent variable(s) have on a dependent variable.  Typical questions are what is the strength of relationship between dose and effect, sales and marketing spending, or age and income.\n",
    "\n",
    "Second, it can be used to forecast effects or impact of changes.  That is, the regression analysis helps us to understand how much the dependent variable changes with a change in one or more independent variables.  A typical question is, “how much additional sales income do I get for each additional $1000 spent on marketing?”\n",
    "\n",
    "Third, regression analysis predicts trends and future values.  The regression analysis can be used to get point estimates.  A typical question is, “what will the price of gold be in 6 months?\n",
    "\n",
    "\n",
    "\n"
   ]
  },
  {
   "cell_type": "markdown",
   "metadata": {
    "id": "qUQx6zgDMsIG"
   },
   "source": [
    "<br><br><br>\n",
    "## Objective\n",
    "***\n",
    "* Understand the intuition behind Linear Regression\n",
    "* Understand the Linear Regression Cost Function\n",
    "* Understand the Linear Regression using Gradient Descent Algorithm\n",
    "* Introduction to Linear Regression in sklearn\n",
    "* Learn about the assumptions in Linear Regression Algorithm\n",
    "* Evaluating Metrics for Regression"
   ]
  },
  {
   "cell_type": "markdown",
   "metadata": {
    "id": "Qqy1nQdLMsIH"
   },
   "source": [
    "<br><br><br>\n",
    "\n",
    "## Flow\n",
    "***\n",
    "\n",
    "- **Dataset**\n",
    "- **Predictors and Target Variables?**\n",
    "    - Predictors & Target for our Dataset\n",
    "- **Plot our data**\n",
    "    - Is there a relation ?\n",
    "    - Plotting a line on a scatter plot\n",
    "    - Which line to choose ?\n",
    "- **Linear Regression**\n",
    "    - Introducing Linear Regression\n",
    "    - Dependent and Independent Variables\n",
    "    - Univariate & Multivariate analysis\n",
    "    - Cost Function\n",
    "        - Cost Function - Why is it needed ?\n",
    "        - Cost Function - Mathematical Representation\n",
    "    - Gradient Descent\n",
    "        - Gradient Descent - Intuition\n",
    "        - Gradient Descent - Algorithm\n",
    "    - Linear Regression in **`sklearn`**\n",
    "    - Multivariate Linear Regression\n",
    "    - Measuring Goodness Of Fit\n"
   ]
  },
  {
   "cell_type": "code",
   "execution_count": 36,
   "metadata": {
    "id": "kopsaEyZMsIH"
   },
   "outputs": [],
   "source": [
    "from __future__ import print_function\n",
    "from __future__ import division"
   ]
  },
  {
   "cell_type": "code",
   "execution_count": 37,
   "metadata": {
    "id": "Pp2zATfDMsII"
   },
   "outputs": [],
   "source": [
    "# Necessary Imports\n",
    "import pandas as pd\n",
    "import numpy as np\n",
    "import matplotlib.pyplot as plt\n",
    "import seaborn as sns\n",
    "import warnings\n",
    "warnings.filterwarnings('ignore')\n",
    "%matplotlib inline\n"
   ]
  },
  {
   "cell_type": "markdown",
   "metadata": {
    "id": "U2gC5XwpMsIJ"
   },
   "source": [
    "<br><br><br><br><br><br>\n",
    "## Dataset\n",
    "***\n",
    "\n",
    "Let's start by loading the dataset. We'll be using two `.csv` files. One having only one predictor and the other having multiple predictors. Since the target variable(we'll find out what target variables and predictors are below) is **quantitative/continuous**, this is the best for regression problems. \n",
    "\n",
    "Let's start loading the data for univariate analysis.\n"
   ]
  },
  {
   "cell_type": "code",
   "execution_count": 40,
   "metadata": {
    "colab": {
     "base_uri": "https://localhost:8080/",
     "height": 206
    },
    "id": "9NTMIz7GMsIK",
    "outputId": "dba5865a-79af-4013-a9f8-6995bd51d1cc"
   },
   "outputs": [
    {
     "data": {
      "text/html": [
       "<div>\n",
       "<style scoped>\n",
       "    .dataframe tbody tr th:only-of-type {\n",
       "        vertical-align: middle;\n",
       "    }\n",
       "\n",
       "    .dataframe tbody tr th {\n",
       "        vertical-align: top;\n",
       "    }\n",
       "\n",
       "    .dataframe thead th {\n",
       "        text-align: right;\n",
       "    }\n",
       "</style>\n",
       "<table border=\"1\" class=\"dataframe\">\n",
       "  <thead>\n",
       "    <tr style=\"text-align: right;\">\n",
       "      <th></th>\n",
       "      <th>LotArea</th>\n",
       "      <th>SalePrice</th>\n",
       "    </tr>\n",
       "  </thead>\n",
       "  <tbody>\n",
       "    <tr>\n",
       "      <th>0</th>\n",
       "      <td>8450</td>\n",
       "      <td>208500</td>\n",
       "    </tr>\n",
       "    <tr>\n",
       "      <th>1</th>\n",
       "      <td>9600</td>\n",
       "      <td>181500</td>\n",
       "    </tr>\n",
       "    <tr>\n",
       "      <th>2</th>\n",
       "      <td>11250</td>\n",
       "      <td>223500</td>\n",
       "    </tr>\n",
       "    <tr>\n",
       "      <th>3</th>\n",
       "      <td>9550</td>\n",
       "      <td>140000</td>\n",
       "    </tr>\n",
       "    <tr>\n",
       "      <th>4</th>\n",
       "      <td>14260</td>\n",
       "      <td>250000</td>\n",
       "    </tr>\n",
       "  </tbody>\n",
       "</table>\n",
       "</div>"
      ],
      "text/plain": [
       "   LotArea  SalePrice\n",
       "0     8450     208500\n",
       "1     9600     181500\n",
       "2    11250     223500\n",
       "3     9550     140000\n",
       "4    14260     250000"
      ]
     },
     "execution_count": 40,
     "metadata": {},
     "output_type": "execute_result"
    }
   ],
   "source": [
    "data = pd.read_csv('https://raw.githubusercontent.com/rasyidev/well-known-datasets/main/house_prices.csv')\n",
    "data.head()"
   ]
  },
  {
   "cell_type": "code",
   "execution_count": 41,
   "metadata": {
    "colab": {
     "base_uri": "https://localhost:8080/",
     "height": 206
    },
    "id": "ZuJ2oG7TeSzA",
    "outputId": "0465711d-36f3-49d3-ea95-a29e7d37c533"
   },
   "outputs": [
    {
     "data": {
      "text/html": [
       "<div>\n",
       "<style scoped>\n",
       "    .dataframe tbody tr th:only-of-type {\n",
       "        vertical-align: middle;\n",
       "    }\n",
       "\n",
       "    .dataframe tbody tr th {\n",
       "        vertical-align: top;\n",
       "    }\n",
       "\n",
       "    .dataframe thead th {\n",
       "        text-align: right;\n",
       "    }\n",
       "</style>\n",
       "<table border=\"1\" class=\"dataframe\">\n",
       "  <thead>\n",
       "    <tr style=\"text-align: right;\">\n",
       "      <th></th>\n",
       "      <th>LotArea</th>\n",
       "      <th>SalePrice</th>\n",
       "    </tr>\n",
       "  </thead>\n",
       "  <tbody>\n",
       "    <tr>\n",
       "      <th>1321</th>\n",
       "      <td>7917</td>\n",
       "      <td>175000</td>\n",
       "    </tr>\n",
       "    <tr>\n",
       "      <th>1322</th>\n",
       "      <td>13175</td>\n",
       "      <td>210000</td>\n",
       "    </tr>\n",
       "    <tr>\n",
       "      <th>1323</th>\n",
       "      <td>9042</td>\n",
       "      <td>266500</td>\n",
       "    </tr>\n",
       "    <tr>\n",
       "      <th>1324</th>\n",
       "      <td>9717</td>\n",
       "      <td>142125</td>\n",
       "    </tr>\n",
       "    <tr>\n",
       "      <th>1325</th>\n",
       "      <td>9937</td>\n",
       "      <td>147500</td>\n",
       "    </tr>\n",
       "  </tbody>\n",
       "</table>\n",
       "</div>"
      ],
      "text/plain": [
       "      LotArea  SalePrice\n",
       "1321     7917     175000\n",
       "1322    13175     210000\n",
       "1323     9042     266500\n",
       "1324     9717     142125\n",
       "1325     9937     147500"
      ]
     },
     "execution_count": 41,
     "metadata": {},
     "output_type": "execute_result"
    }
   ],
   "source": [
    "data.tail()"
   ]
  },
  {
   "cell_type": "markdown",
   "metadata": {
    "id": "xJ0YK3S7MsIL"
   },
   "source": [
    "In order to learn to make predictions, it is important to learn what a Predictor is.\n",
    "\n",
    "## Predictor and Target Variables\n",
    "***\n",
    "\n",
    "How could you say if a person went to tier 1, 2 or 3 college in America?\n",
    " \n",
    "Simple, if someone is determined to pursue a Bachelor's degree, Higher SAT scores (or GPA) leads to more college admissions! "
   ]
  },
  {
   "cell_type": "markdown",
   "metadata": {
    "collapsed": true,
    "id": "49UNFKzxMsIL"
   },
   "source": [
    "### The graph below depicts Cornell's acceptance rate by SAT scores and many Universities show similar trends\n",
    "***\n",
    "\n",
    "\n",
    "<img src=\"https://raw.githubusercontent.com/bluedataconsulting/AIMasteryProgram/main/Lab_Exercises/Module4/images/LinearRegression.gif\" width=400 height=200>"
   ]
  },
  {
   "cell_type": "markdown",
   "metadata": {
    "id": "k72nV3xgMsIL"
   },
   "source": [
    "### The graph below depicts that if we keep on drinking more and more beers, our Blood-Alcohol Content(BAC) rises with it. "
   ]
  },
  {
   "cell_type": "markdown",
   "metadata": {
    "collapsed": true,
    "id": "SVoIyWoMMsIM"
   },
   "source": [
    "<img src=\"https://raw.githubusercontent.com/bluedataconsulting/AIMasteryProgram/main/Lab_Exercises/Module4/images/linear_regression2.png\" width=400 height=200>"
   ]
  },
  {
   "cell_type": "markdown",
   "metadata": {
    "id": "EmOl0BOqMsIM"
   },
   "source": [
    "***\n",
    "\n",
    "The moral of the story is there are factors that influence the outcome of the variable of our interest. \n",
    "\n",
    "* SAT score --> University acceptance rate\n",
    "* Number of beers --> Body alcohol level\n",
    "\n",
    "These factors are known as **predictors** and the variable of interest is known as the **target variable**."
   ]
  },
  {
   "cell_type": "markdown",
   "metadata": {
    "id": "6JawbTFIMsIM"
   },
   "source": [
    "## Predictors & Target Variable for our dataset"
   ]
  },
  {
   "cell_type": "markdown",
   "metadata": {
    "id": "oxOYif9oMsIM"
   },
   "source": [
    "**What could be the predictors for our target variable?**\n",
    "Let's go with the **LotArea**\n",
    "\n",
    "We would want to see if the price of a house is really affected by the area of the house.Intuitively, we all know the outcome but let's try to understand why we're doing this."
   ]
  },
  {
   "cell_type": "markdown",
   "metadata": {
    "id": "6ejUcd1pMsIM"
   },
   "source": [
    "<br><br><br><br><br><br>\n",
    "## Plotting our data\n",
    "***\n",
    "\n",
    " - Getting some motivation from **Week-5 Plot With Pandas notebook**, what's intriguing is how this data will look when we plot it \n",
    " - Starting simple, let's just check how our data looks like in a scatter plot where: \n",
    "   - Area is taken along the X-axis\n",
    "   - Price is taken along the Y-axis"
   ]
  },
  {
   "cell_type": "code",
   "execution_count": 43,
   "metadata": {
    "colab": {
     "base_uri": "https://localhost:8080/",
     "height": 295
    },
    "id": "jyH2q6rrMsIN",
    "outputId": "fbc583ef-5427-4857-e82d-0222df42c994"
   },
   "outputs": [
    {
     "data": {
      "image/png": "[encoded data removed]",
      "text/plain": [
       "<Figure size 432x288 with 1 Axes>"
      ]
     },
     "metadata": {
      "needs_background": "light"
     },
     "output_type": "display_data"
    }
   ],
   "source": [
    "import matplotlib.pyplot as plt\n",
    "plt.scatter(data['LotArea'], data['SalePrice'])\n",
    "plt.title('NYC House pricing')\n",
    "plt.xlabel('Area')\n",
    "plt.ylabel('Price')\n",
    "plt.show()"
   ]
  },
  {
   "cell_type": "code",
   "execution_count": 44,
   "metadata": {
    "colab": {
     "base_uri": "https://localhost:8080/",
     "height": 279
    },
    "id": "JxpCEZLgedNg",
    "outputId": "3ee78b11-4121-4d24-d49f-2125dc2850d6"
   },
   "outputs": [
    {
     "data": {
      "image/png": "[encoded data removed]",
      "text/plain": [
       "<Figure size 432x288 with 1 Axes>"
      ]
     },
     "metadata": {
      "needs_background": "light"
     },
     "output_type": "display_data"
    }
   ],
   "source": [
    "sns.scatterplot(x = data.LotArea, y = data.SalePrice);"
   ]
  },
  {
   "cell_type": "markdown",
   "metadata": {
    "id": "xpe9po6jMsIN"
   },
   "source": [
    "### Is there a relation ?\n",
    "*** \n",
    "\n",
    "  - By seeing our plot above, we can see an upward trend in the House Prices as the Area of the house increases\n",
    "  - We can say that as the Area of a house increases, it's price increases too.\n",
    "<br/>  \n",
    "\n",
    "Now, let's say we want to predict the price of the house whose area is 14000 sq feet, how should we go about it?"
   ]
  },
  {
   "cell_type": "code",
   "execution_count": 45,
   "metadata": {
    "colab": {
     "base_uri": "https://localhost:8080/",
     "height": 112
    },
    "id": "-hFndj-ZewM-",
    "outputId": "002aee11-30e2-43ab-a2e6-574a7cef9ac5"
   },
   "outputs": [
    {
     "data": {
      "text/html": [
       "<div>\n",
       "<style scoped>\n",
       "    .dataframe tbody tr th:only-of-type {\n",
       "        vertical-align: middle;\n",
       "    }\n",
       "\n",
       "    .dataframe tbody tr th {\n",
       "        vertical-align: top;\n",
       "    }\n",
       "\n",
       "    .dataframe thead th {\n",
       "        text-align: right;\n",
       "    }\n",
       "</style>\n",
       "<table border=\"1\" class=\"dataframe\">\n",
       "  <thead>\n",
       "    <tr style=\"text-align: right;\">\n",
       "      <th></th>\n",
       "      <th>LotArea</th>\n",
       "      <th>SalePrice</th>\n",
       "    </tr>\n",
       "  </thead>\n",
       "  <tbody>\n",
       "    <tr>\n",
       "      <th>LotArea</th>\n",
       "      <td>1.000000</td>\n",
       "      <td>0.390102</td>\n",
       "    </tr>\n",
       "    <tr>\n",
       "      <th>SalePrice</th>\n",
       "      <td>0.390102</td>\n",
       "      <td>1.000000</td>\n",
       "    </tr>\n",
       "  </tbody>\n",
       "</table>\n",
       "</div>"
      ],
      "text/plain": [
       "            LotArea  SalePrice\n",
       "LotArea    1.000000   0.390102\n",
       "SalePrice  0.390102   1.000000"
      ]
     },
     "execution_count": 45,
     "metadata": {},
     "output_type": "execute_result"
    }
   ],
   "source": [
    "data.corr()"
   ]
  },
  {
   "cell_type": "markdown",
   "metadata": {
    "id": "PntZh6QAMsIN"
   },
   "source": [
    "<br><br><br><br><br><br>\n",
    "### Fitting a Line On the Scatter Plot\n",
    "***\n",
    "\n",
    " - Intuitively, we can just draw a straight line that would \"capture\" the trend of area and house price, and predict house price from that line.\n",
    "\n",
    "<div class=\"alert alert-block alert-success\">**Let's try and fit a line through all these points!**</div>"
   ]
  },
  {
   "cell_type": "code",
   "execution_count": 47,
   "metadata": {
    "colab": {
     "base_uri": "https://localhost:8080/",
     "height": 295
    },
    "id": "U1F3ZDZBMsIN",
    "outputId": "7a9c3196-5271-4fc7-ed2d-e972a2b39026"
   },
   "outputs": [
    {
     "data": {
      "image/png": "[encoded data removed]",
      "text/plain": [
       "<Figure size 432x288 with 1 Axes>"
      ]
     },
     "metadata": {
      "needs_background": "light"
     },
     "output_type": "display_data"
    }
   ],
   "source": [
    "plt.scatter(data['LotArea'], data['SalePrice'])\n",
    "plt.axvline(x=14000,linewidth='1',color='r')\n",
    "plt.title('NYC House pricing')\n",
    "plt.xlabel('Area')\n",
    "plt.ylabel('Price')\n",
    "plt.show()"
   ]
  },
  {
   "cell_type": "markdown",
   "metadata": {
    "id": "qQUVlJ4oMsIN"
   },
   "source": [
    "<br><br><br>\n",
    "### Which line to choose?\n",
    "***\n",
    "\n",
    "As you saw, there are many lines which would seem to be fitting reasonably well.\n",
    "\n",
    "\n",
    "consider following lines,\n",
    "\n",
    "\n",
    "$$ price = 30000 + 15∗area\\\\\n",
    "price=10000 + 17 ∗ area\\\\\n",
    "price= 50000 + 12 ∗ area\n",
    "$$\n",
    "\n",
    "<div class=\"alert alert-block alert-success\">**Let's try and plot them and see if they are a good fit**</div>"
   ]
  },
  {
   "cell_type": "code",
   "execution_count": 48,
   "metadata": {
    "colab": {
     "base_uri": "https://localhost:8080/",
     "height": 295
    },
    "id": "twuCTioVMsIO",
    "outputId": "1fcd42eb-c5a3-4304-e5bd-d8a4c1e6b255"
   },
   "outputs": [
    {
     "data": {
      "image/png": "[encoded data removed]",
      "text/plain": [
       "<Figure size 432x288 with 1 Axes>"
      ]
     },
     "metadata": {
      "needs_background": "light"
     },
     "output_type": "display_data"
    }
   ],
   "source": [
    "import matplotlib.pyplot as plt\n",
    "plt.scatter(data.LotArea, data.SalePrice)\n",
    "plt.plot(data.LotArea, 30000 + 15*data.LotArea, \"r-\") #y = 30000 + 15x\n",
    "plt.plot(data.LotArea, 30000 + 17*data.LotArea, \"g-\") #y = 30000 + 17x\n",
    "plt.plot(data.LotArea, 30000 + 12*data.LotArea, \"y-\") #y = 30000 + 12x\n",
    "plt.plot(data.LotArea, 30000 + 10*data.LotArea, \"b-\") #y = 30000 + 10x\n",
    "plt.title('NYC House pricing')\n",
    "plt.xlabel('Area')\n",
    "plt.ylabel('Price')\n",
    "plt.show()"
   ]
  },
  {
   "cell_type": "markdown",
   "metadata": {
    "id": "sVgR9PDZMsIO"
   },
   "source": [
    "\n",
    "***\n",
    "Seems like all of them are a good fit for the data. Let's plot all of them in a single plot and see how that pans out."
   ]
  },
  {
   "cell_type": "code",
   "execution_count": 49,
   "metadata": {
    "colab": {
     "base_uri": "https://localhost:8080/",
     "height": 295
    },
    "id": "HvMB2h_lMsIO",
    "outputId": "0c940acc-8068-4917-de27-fea644b9f925"
   },
   "outputs": [
    {
     "data": {
      "image/png": "[encoded data removed]",
      "text/plain": [
       "<Figure size 432x288 with 1 Axes>"
      ]
     },
     "metadata": {
      "needs_background": "light"
     },
     "output_type": "display_data"
    }
   ],
   "source": [
    "import matplotlib.pyplot as plt\n",
    "plt.scatter(data.LotArea, data.SalePrice)\n",
    "plt.plot(data.LotArea, 30000 + 15*data.LotArea, \"r-\") #y = 30000 + 15x\n",
    "plt.plot(data.LotArea, 10000 + 17*data.LotArea, \"k-\") #y = 10000 + 17x\n",
    "plt.plot(data.LotArea, 50000 + 12*data.LotArea, \"y-\") #y = 50000 + 12x\n",
    "plt.title('NYC House pricing')\n",
    "plt.xlabel('Area')\n",
    "plt.ylabel('Price')\n",
    "plt.show()"
   ]
  },
  {
   "cell_type": "markdown",
   "metadata": {
    "id": "n0WLMTVrMsIO"
   },
   "source": [
    "As you can see although all three seemed like a good fit, they are quite different from each other. And in the end, they will result in very different predictions.\n",
    "\n",
    "For example, for house area = 9600, the predictions for red, black and yellow lines are"
   ]
  },
  {
   "cell_type": "code",
   "execution_count": 50,
   "metadata": {
    "colab": {
     "base_uri": "https://localhost:8080/"
    },
    "id": "5_Cvgq8iMsIO",
    "outputId": "4c52093f-4f84-4cde-9e24-b2822f174eed"
   },
   "outputs": [
    {
     "name": "stdout",
     "output_type": "stream",
     "text": [
      "red line: 174000\n",
      "black line: 173200\n",
      "yellow line: 165200\n"
     ]
    }
   ],
   "source": [
    "# red line: \n",
    "print(\"red line:\", 30000 + 15*9600) # <-- Inserted value 9600 inplace of LotArea \n",
    "\n",
    "# black line: \n",
    "print('black line:', 10000 + 17*9600) # <-- Inserted value 9600 inplace of LotArea\n",
    "\n",
    "# yellow line:\n",
    "print('yellow line:', 50000 + 12*9600) # <-- Inserted value 9600 inplace of LotArea\n"
   ]
  },
  {
   "cell_type": "markdown",
   "metadata": {
    "id": "VIAeexoZMsIP"
   },
   "source": [
    "### Which is the best line to choose?\n",
    "***\n",
    "\n",
    "As you can see the price predictions are varying from each other significantly. So how do we choose the best line?\n",
    "\n",
    "Well, we can define a function that measures how near or far the prediction is from the actual value.\n",
    "\n",
    "If we consider the actual and predicted values as points in space, we can just calculate the distance between these two points!"
   ]
  },
  {
   "cell_type": "markdown",
   "metadata": {
    "id": "u-fbtsndMsIP"
   },
   "source": [
    "This function is defined as:\n",
    "\n",
    "$$(Y_{pred}-Y_{actual})^2$$\n",
    "\n",
    "The farther the points, more the the distance and more is the value of the function !\n",
    "\n",
    "\n",
    "It is known as the **cost function** and since this function captures square of distance, it is known as the **least-squares cost function**. \n",
    "\n",
    "\n",
    "The idea is to **minimize** the cost function to get the best fitting line."
   ]
  },
  {
   "cell_type": "markdown",
   "metadata": {
    "id": "8qfLSOzaMsIP"
   },
   "source": [
    "<br><br><br><br><br><br>\n",
    "\n",
    "## Introducing *Linear Regression* :\n",
    "***\n",
    "\n",
    "Linear regression using least squared cost function is known as **Ordinary Least Squared Linear Regression**. \n",
    "\n",
    "This allows us to analyze the relationship between two quantitative variables and derive some meaningful insights"
   ]
  },
  {
   "cell_type": "markdown",
   "metadata": {
    "id": "7E7KZSrZMsIP"
   },
   "source": [
    "### Dependent & Independent variable\n",
    "***\n",
    "\n",
    "Great! now before moving forward, let's learn some terminologies.\n",
    " \n",
    " - Here, we're trying to Predict the Price of the House using the value of it's Area \n",
    " - Thus, Area is the **Independent Variable** \n",
    " - Price is the **Dependent Variable**, since the value of price is **dependent** on the value of area\n",
    " "
   ]
  },
  {
   "cell_type": "markdown",
   "metadata": {
    "id": "YXRMXYMfMsIP"
   },
   "source": [
    "### Univariate & Multivariate analysis \n",
    "***\n",
    "\n",
    "- Since we're using **only 1** predictor (Area) to predict the Price, this method is also called **Univariate Regression**\n",
    "- But more often than not, in real problems, we utilize 2 or more predictors. Such a regression is called **Muiltivariate Regression**. More on this later! "
   ]
  },
  {
   "cell_type": "markdown",
   "metadata": {
    "id": "gNRBEq0MMsIP"
   },
   "source": [
    "### Notations !\n",
    "***\n",
    "\n",
    "We will start to use following notations as it helps us represent the problem in a concise way.\n",
    "\n",
    "* $x^{(i)}$  denotes the predictor(s) - in our case it's the Area\n",
    "* $y^{(i)}$  denotes the target variable (Price)\n",
    "\n",
    "A pair ($x^{(i)}$ ,  $y^{(i)}$) is called a training example.\n",
    "\n",
    "Let's consider that any given dataset contains **\"m\"** training examples or Observations\n",
    "\n",
    "{ $x^{(i)}$  , $y^{(i)}$ ; i = 1, . . . , m} — is called a **training set**.\n",
    "\n",
    "In this example, m = 1326 (Nos. of row)\n",
    "\n",
    "\n",
    "For example, 2nd training example, ( x(2)  ,  y(2) ) corresponds to  **(9600,181500)**\n",
    "\n",
    "\n"
   ]
  },
  {
   "cell_type": "markdown",
   "metadata": {
    "id": "jfvV8wNaMsIP"
   },
   "source": [
    "<br><br><br><br><br><br>\n",
    "### Cost Function - Why is it needed ?:\n",
    "***\n",
    "\n",
    "- An ideal case would be when all the individual points in the scatter plot fall directly on the line OR a straight line passes through all the points in our plot, but in reality, **that rarely happens**.\n",
    "  \n",
    "- We can see that for a Particular Area, there is a difference between Price given by our data point (which is the correct observation) and the line (predicted observation or **Fitted Value**)\n",
    "\n",
    "- So how can we Mathematically capture such differences and represent it? "
   ]
  },
  {
   "cell_type": "markdown",
   "metadata": {
    "id": "JedQXVjVMsIP"
   },
   "source": [
    "### Cost Function - Mathemtical Representation\n",
    "***\n",
    "We choose  θs so that predicted values are as close to the actual values as possible\n",
    "\n",
    "We can define a mathematical function to capture the difference between the predicted and actual values.\n",
    "\n",
    "This function is known as the cost function and denoted by $J(θ)$\n",
    "\n",
    "\n",
    "\n",
    "$$J(θ) = \\frac{1}{2m} \\sum _{i=1}^m (h_\\theta(X^{(i)})-Y^{(i)})^2$$\n",
    "\n",
    "* $\\theta$ is the coefficient of 'x' for our linear model intuitively. It measures how much of a unit change of 'x' will have an effect on 'y'\n",
    "- Here, we need to figure out the values of intercept and coefficients so that  the cost function is minimized.\n",
    "- We do this by a very important and widely used Algorithm: **Gradient Descent**"
   ]
  },
  {
   "cell_type": "markdown",
   "metadata": {
    "id": "KbuYlSRdMsIQ"
   },
   "source": [
    "<br><br><br>\n",
    "### Gradient Descent Intuition\n",
    "***\n",
    " - So, we want to choose θ so as to minimize J(θ)\n",
    " - Gradient Descent is an iterative method that starts with some “initial random value” for θ, and that repeatedly changes θ to make J(θ) smaller, until hopefully it converges to a value of θ that minimizes J(θ)\n",
    " \n",
    "\n",
    " \n"
   ]
  },
  {
   "cell_type": "markdown",
   "metadata": {
    "id": "UYrC5NSkMsIQ"
   },
   "source": [
    " - It repeatedly performs an update on θ as shown: \n",
    " \n",
    "      $$ \\theta_{j} := \\theta_{j}-\\alpha \\frac{\\partial }{\\partial \\theta_{j}}J(\\theta) $$\n",
    "<br/>\n",
    " - Here α is called the learning rate. This is a very natural algorithm that repeatedly takes a step in the direction of steepest decrease of J(θ)     \n",
    "    \n"
   ]
  },
  {
   "cell_type": "markdown",
   "metadata": {
    "id": "c3LpzVK7MsIQ"
   },
   "source": [
    "<br><br><br><br><br><br>\n",
    "### Gradient Descent Algorithm\n",
    "***\n",
    "To get the optimal value of  θ , perform following algorithm known as the **Batch Gradient Descent Algorithm**\n",
    "\n",
    "   - Assume initial θ\n",
    "   - Calculate h(θ) for i=1 to m\n",
    "   - Calculate J(θ). Stop when value of J(θ) assumes global/local minima\n",
    "   - Calculate $\\thinspace\\sum_{i=1}^{m}(y^{(i)}-h_{\\theta}(x^{(i)}))*x_{j}$   for all $\\theta_{j}'s$\n",
    "   - Calculate new $\\thinspace\\theta_{j}'s$\n",
    "   - Go to step 2"
   ]
  },
  {
   "cell_type": "markdown",
   "metadata": {
    "id": "c1JgHWgnMsIQ"
   },
   "source": [
    "### Linear Regression in `sklearn`\n",
    "***\n",
    "\n",
    "**`sklearn`** provides an easy api to fit a linear regression and predict values using linear regression\n",
    "\n",
    "Let's see how it works"
   ]
  },
  {
   "cell_type": "code",
   "execution_count": 52,
   "metadata": {},
   "outputs": [],
   "source": [
    "from sklearn.linear_model import LinearRegression"
   ]
  },
  {
   "cell_type": "code",
   "execution_count": 53,
   "metadata": {
    "colab": {
     "base_uri": "https://localhost:8080/",
     "height": 81
    },
    "id": "tI6CeshjgQu1",
    "outputId": "7b08b8c4-d4c4-4602-ac32-bebc97351170"
   },
   "outputs": [
    {
     "data": {
      "text/html": [
       "<div>\n",
       "<style scoped>\n",
       "    .dataframe tbody tr th:only-of-type {\n",
       "        vertical-align: middle;\n",
       "    }\n",
       "\n",
       "    .dataframe tbody tr th {\n",
       "        vertical-align: top;\n",
       "    }\n",
       "\n",
       "    .dataframe thead th {\n",
       "        text-align: right;\n",
       "    }\n",
       "</style>\n",
       "<table border=\"1\" class=\"dataframe\">\n",
       "  <thead>\n",
       "    <tr style=\"text-align: right;\">\n",
       "      <th></th>\n",
       "      <th>LotArea</th>\n",
       "      <th>SalePrice</th>\n",
       "    </tr>\n",
       "  </thead>\n",
       "  <tbody>\n",
       "    <tr>\n",
       "      <th>0</th>\n",
       "      <td>8450</td>\n",
       "      <td>208500</td>\n",
       "    </tr>\n",
       "  </tbody>\n",
       "</table>\n",
       "</div>"
      ],
      "text/plain": [
       "   LotArea  SalePrice\n",
       "0     8450     208500"
      ]
     },
     "execution_count": 53,
     "metadata": {},
     "output_type": "execute_result"
    }
   ],
   "source": [
    "data.head(1)"
   ]
  },
  {
   "cell_type": "code",
   "execution_count": 54,
   "metadata": {
    "colab": {
     "base_uri": "https://localhost:8080/"
    },
    "id": "JCDUkdzRgZEb",
    "outputId": "4a5b1ca5-93f9-4650-827f-e706dd929a08",
    "scrolled": true
   },
   "outputs": [
    {
     "name": "stdout",
     "output_type": "stream",
     "text": [
      "0        8450\n",
      "1        9600\n",
      "2       11250\n",
      "3        9550\n",
      "4       14260\n",
      "        ...  \n",
      "1321     7917\n",
      "1322    13175\n",
      "1323     9042\n",
      "1324     9717\n",
      "1325     9937\n",
      "Name: LotArea, Length: 1326, dtype: int64\n"
     ]
    }
   ],
   "source": [
    "X = data.LotArea\n",
    "print(X)"
   ]
  },
  {
   "cell_type": "code",
   "execution_count": 15,
   "metadata": {
    "colab": {
     "base_uri": "https://localhost:8080/"
    },
    "id": "iWN91vxxgoP0",
    "outputId": "f84ffb7c-9e32-479d-ab96-98d29162ce2c"
   },
   "outputs": [
    {
     "name": "stdout",
     "output_type": "stream",
     "text": [
      "0       208500\n",
      "1       181500\n",
      "2       223500\n",
      "3       140000\n",
      "4       250000\n",
      "         ...  \n",
      "1321    175000\n",
      "1322    210000\n",
      "1323    266500\n",
      "1324    142125\n",
      "1325    147500\n",
      "Name: SalePrice, Length: 1326, dtype: int64\n"
     ]
    }
   ],
   "source": [
    "Y = data.SalePrice\n",
    "print(Y)"
   ]
  },
  {
   "cell_type": "code",
   "execution_count": 16,
   "metadata": {
    "id": "JgR2SYd2MsIQ"
   },
   "outputs": [],
   "source": [
    "X = data.LotArea[:,np.newaxis]  # Reshape\n",
    "y = data.SalePrice"
   ]
  },
  {
   "cell_type": "code",
   "execution_count": 17,
   "metadata": {
    "colab": {
     "base_uri": "https://localhost:8080/"
    },
    "id": "V6ybeKkhMsIQ",
    "outputId": "f755568e-0008-4852-ae30-2a659ace72ad"
   },
   "outputs": [
    {
     "data": {
      "text/plain": [
       "LinearRegression()"
      ]
     },
     "execution_count": 17,
     "metadata": {},
     "output_type": "execute_result"
    }
   ],
   "source": [
    "  # Fitting Simple Linear Regression to the Training set\n",
    "regressor = LinearRegression()\n",
    "regressor.fit(X, y)"
   ]
  },
  {
   "cell_type": "code",
   "execution_count": 18,
   "metadata": {
    "id": "pN4WSGyfMsIR"
   },
   "outputs": [],
   "source": [
    "# Predicting the Test set results\n",
    "y_pred = regressor.predict(X)"
   ]
  },
  {
   "cell_type": "markdown",
   "metadata": {
    "id": "Z8smaMN_MsIR"
   },
   "source": [
    "### Plotting the Best Fitting Line"
   ]
  },
  {
   "cell_type": "code",
   "execution_count": 19,
   "metadata": {
    "colab": {
     "base_uri": "https://localhost:8080/",
     "height": 295
    },
    "id": "iiRnWkQgMsIR",
    "outputId": "609a67dd-f3a7-465b-dc82-40aec06934a2",
    "scrolled": true
   },
   "outputs": [
    {
     "data": {
      "image/png": "[encoded data removed]",
      "text/plain": [
       "<Figure size 432x288 with 1 Axes>"
      ]
     },
     "metadata": {
      "needs_background": "light"
     },
     "output_type": "display_data"
    }
   ],
   "source": [
    " # Train Part\n",
    "plt.scatter(X, y)\n",
    "plt.plot(X, y_pred, \"r-\")\n",
    "plt.title('Housing Price ')\n",
    "plt.xlabel('Area')\n",
    "plt.ylabel('Price')\n",
    "plt.show()"
   ]
  },
  {
   "cell_type": "code",
   "execution_count": 20,
   "metadata": {
    "colab": {
     "base_uri": "https://localhost:8080/"
    },
    "id": "BApoe5eniqdl",
    "outputId": "668566a7-a3a2-4573-a98f-a9b3d9dd596e"
   },
   "outputs": [
    {
     "name": "stdout",
     "output_type": "stream",
     "text": [
      "4000\n",
      "Perkiraan harga jual tanah kamu adalah [131131.64012595]\n"
     ]
    }
   ],
   "source": [
    "luas_tanah = float(input())\n",
    "hasil = regressor.predict([[luas_tanah]])\n",
    "print(\"Perkiraan harga jual tanah kamu adalah\", hasil)"
   ]
  },
  {
   "cell_type": "markdown",
   "metadata": {
    "id": "-g6d-GZMMsIR"
   },
   "source": [
    "### Prediction made Easy\n",
    "***\n",
    "\n",
    " - Visually, now we now have a nice approximation of how Area affects the Price \n",
    " - We can also make a prediction, the easy way of course! \n",
    " - For example: If we want to buy a house of 14,000 sq. ft, we can simply draw a vertical line from 14,000 up to our Approximated Trend line and continue that line towards the y-axis\n"
   ]
  },
  {
   "cell_type": "code",
   "execution_count": 21,
   "metadata": {
    "colab": {
     "base_uri": "https://localhost:8080/",
     "height": 295
    },
    "id": "NuaFhSgUMsIR",
    "outputId": "620e0b48-5a6d-4662-e63a-8387f2ab5602"
   },
   "outputs": [
    {
     "data": {
      "image/png": "[encoded data removed]",
      "text/plain": [
       "<Figure size 432x288 with 1 Axes>"
      ]
     },
     "metadata": {
      "needs_background": "light"
     },
     "output_type": "display_data"
    }
   ],
   "source": [
    " # Train Part\n",
    "plt.scatter(X, y)\n",
    "plt.plot(X, y_pred, \"r-\")\n",
    "plt.title('Housing Price ')\n",
    "plt.xlabel('Area')\n",
    "plt.ylabel('Price')\n",
    "plt.axvline(x=14000,c='g');\n"
   ]
  },
  {
   "cell_type": "markdown",
   "metadata": {
    "id": "b7VaWNdKMsIR"
   },
   "source": [
    " - We can see that for a house whose area ~ 14,000 we need to pay ~ 2,00,000-2,25,000"
   ]
  },
  {
   "cell_type": "markdown",
   "metadata": {
    "id": "OQ9lCXGyMsIR"
   },
   "source": [
    "<br><br><br><br><br><br>\n",
    "## Multivariate Linear Regression\n",
    "***\n",
    "- In Univariate Linear Regression we used only two variable. One as Dependent Variable and Other as Independent variable.\n",
    "- Now, we will use Multiple Dependent variables instead of one and will predict the Price i.e. Independent variable.\n",
    "- i.e the equation for multivariate linear regression is modified as below:\n",
    "    \n",
    "    $$ y = \\theta_{0}+\\theta_{1}x_{1}+\\theta_{2}x_{2}+\\cdots +\\theta_{n}x_{n} $$\n",
    "\n",
    "\n",
    "- So, along with Area we will consider other variables as such as Pool etc."
   ]
  },
  {
   "cell_type": "code",
   "execution_count": 22,
   "metadata": {
    "colab": {
     "base_uri": "https://localhost:8080/",
     "height": 299
    },
    "id": "Gf-U5DH0MsIS",
    "outputId": "93eae242-e371-47eb-e350-53ddfe9bfd88",
    "scrolled": true
   },
   "outputs": [
    {
     "data": {
      "text/html": [
       "<div>\n",
       "<style scoped>\n",
       "    .dataframe tbody tr th:only-of-type {\n",
       "        vertical-align: middle;\n",
       "    }\n",
       "\n",
       "    .dataframe tbody tr th {\n",
       "        vertical-align: top;\n",
       "    }\n",
       "\n",
       "    .dataframe thead th {\n",
       "        text-align: right;\n",
       "    }\n",
       "</style>\n",
       "<table border=\"1\" class=\"dataframe\">\n",
       "  <thead>\n",
       "    <tr style=\"text-align: right;\">\n",
       "      <th></th>\n",
       "      <th>LotFrontage</th>\n",
       "      <th>LotArea</th>\n",
       "      <th>OverallQual</th>\n",
       "      <th>OverallCond</th>\n",
       "      <th>YearBuilt</th>\n",
       "      <th>YearRemodAdd</th>\n",
       "      <th>MasVnrArea</th>\n",
       "      <th>BsmtFinSF1</th>\n",
       "      <th>BsmtFinSF2</th>\n",
       "      <th>BsmtUnfSF</th>\n",
       "      <th>...</th>\n",
       "      <th>GarageArea</th>\n",
       "      <th>WoodDeckSF</th>\n",
       "      <th>OpenPorchSF</th>\n",
       "      <th>EnclosedPorch</th>\n",
       "      <th>3SsnPorch</th>\n",
       "      <th>ScreenPorch</th>\n",
       "      <th>PoolArea</th>\n",
       "      <th>MiscVal</th>\n",
       "      <th>YrSold</th>\n",
       "      <th>SalePrice</th>\n",
       "    </tr>\n",
       "  </thead>\n",
       "  <tbody>\n",
       "    <tr>\n",
       "      <th>0</th>\n",
       "      <td>65.0</td>\n",
       "      <td>8450</td>\n",
       "      <td>7</td>\n",
       "      <td>5</td>\n",
       "      <td>2003</td>\n",
       "      <td>2003</td>\n",
       "      <td>196.0</td>\n",
       "      <td>706</td>\n",
       "      <td>0</td>\n",
       "      <td>150</td>\n",
       "      <td>...</td>\n",
       "      <td>548</td>\n",
       "      <td>0</td>\n",
       "      <td>61</td>\n",
       "      <td>0</td>\n",
       "      <td>0</td>\n",
       "      <td>0</td>\n",
       "      <td>0</td>\n",
       "      <td>0</td>\n",
       "      <td>2008</td>\n",
       "      <td>208500</td>\n",
       "    </tr>\n",
       "    <tr>\n",
       "      <th>1</th>\n",
       "      <td>80.0</td>\n",
       "      <td>9600</td>\n",
       "      <td>6</td>\n",
       "      <td>8</td>\n",
       "      <td>1976</td>\n",
       "      <td>1976</td>\n",
       "      <td>0.0</td>\n",
       "      <td>978</td>\n",
       "      <td>0</td>\n",
       "      <td>284</td>\n",
       "      <td>...</td>\n",
       "      <td>460</td>\n",
       "      <td>298</td>\n",
       "      <td>0</td>\n",
       "      <td>0</td>\n",
       "      <td>0</td>\n",
       "      <td>0</td>\n",
       "      <td>0</td>\n",
       "      <td>0</td>\n",
       "      <td>2007</td>\n",
       "      <td>181500</td>\n",
       "    </tr>\n",
       "    <tr>\n",
       "      <th>2</th>\n",
       "      <td>68.0</td>\n",
       "      <td>11250</td>\n",
       "      <td>7</td>\n",
       "      <td>5</td>\n",
       "      <td>2001</td>\n",
       "      <td>2002</td>\n",
       "      <td>162.0</td>\n",
       "      <td>486</td>\n",
       "      <td>0</td>\n",
       "      <td>434</td>\n",
       "      <td>...</td>\n",
       "      <td>608</td>\n",
       "      <td>0</td>\n",
       "      <td>42</td>\n",
       "      <td>0</td>\n",
       "      <td>0</td>\n",
       "      <td>0</td>\n",
       "      <td>0</td>\n",
       "      <td>0</td>\n",
       "      <td>2008</td>\n",
       "      <td>223500</td>\n",
       "    </tr>\n",
       "    <tr>\n",
       "      <th>3</th>\n",
       "      <td>60.0</td>\n",
       "      <td>9550</td>\n",
       "      <td>7</td>\n",
       "      <td>5</td>\n",
       "      <td>1915</td>\n",
       "      <td>1970</td>\n",
       "      <td>0.0</td>\n",
       "      <td>216</td>\n",
       "      <td>0</td>\n",
       "      <td>540</td>\n",
       "      <td>...</td>\n",
       "      <td>642</td>\n",
       "      <td>0</td>\n",
       "      <td>35</td>\n",
       "      <td>272</td>\n",
       "      <td>0</td>\n",
       "      <td>0</td>\n",
       "      <td>0</td>\n",
       "      <td>0</td>\n",
       "      <td>2006</td>\n",
       "      <td>140000</td>\n",
       "    </tr>\n",
       "    <tr>\n",
       "      <th>4</th>\n",
       "      <td>84.0</td>\n",
       "      <td>14260</td>\n",
       "      <td>8</td>\n",
       "      <td>5</td>\n",
       "      <td>2000</td>\n",
       "      <td>2000</td>\n",
       "      <td>350.0</td>\n",
       "      <td>655</td>\n",
       "      <td>0</td>\n",
       "      <td>490</td>\n",
       "      <td>...</td>\n",
       "      <td>836</td>\n",
       "      <td>192</td>\n",
       "      <td>84</td>\n",
       "      <td>0</td>\n",
       "      <td>0</td>\n",
       "      <td>0</td>\n",
       "      <td>0</td>\n",
       "      <td>0</td>\n",
       "      <td>2008</td>\n",
       "      <td>250000</td>\n",
       "    </tr>\n",
       "  </tbody>\n",
       "</table>\n",
       "<p>5 rows × 35 columns</p>\n",
       "</div>"
      ],
      "text/plain": [
       "   LotFrontage  LotArea  OverallQual  OverallCond  YearBuilt  YearRemodAdd  \\\n",
       "0         65.0     8450            7            5       2003          2003   \n",
       "1         80.0     9600            6            8       1976          1976   \n",
       "2         68.0    11250            7            5       2001          2002   \n",
       "3         60.0     9550            7            5       1915          1970   \n",
       "4         84.0    14260            8            5       2000          2000   \n",
       "\n",
       "   MasVnrArea  BsmtFinSF1  BsmtFinSF2  BsmtUnfSF  ...  GarageArea  WoodDeckSF  \\\n",
       "0       196.0         706           0        150  ...         548           0   \n",
       "1         0.0         978           0        284  ...         460         298   \n",
       "2       162.0         486           0        434  ...         608           0   \n",
       "3         0.0         216           0        540  ...         642           0   \n",
       "4       350.0         655           0        490  ...         836         192   \n",
       "\n",
       "   OpenPorchSF  EnclosedPorch  3SsnPorch  ScreenPorch  PoolArea  MiscVal  \\\n",
       "0           61              0          0            0         0        0   \n",
       "1            0              0          0            0         0        0   \n",
       "2           42              0          0            0         0        0   \n",
       "3           35            272          0            0         0        0   \n",
       "4           84              0          0            0         0        0   \n",
       "\n",
       "   YrSold  SalePrice  \n",
       "0    2008     208500  \n",
       "1    2007     181500  \n",
       "2    2008     223500  \n",
       "3    2006     140000  \n",
       "4    2008     250000  \n",
       "\n",
       "[5 rows x 35 columns]"
      ]
     },
     "execution_count": 22,
     "metadata": {},
     "output_type": "execute_result"
    }
   ],
   "source": [
    "#Loading the data\n",
    "NY_Housing = pd.read_csv(\"https://raw.githubusercontent.com/rasyidev/well-known-datasets/main/house_prices_multivariate.csv\")\n",
    "NY_Housing.head()"
   ]
  },
  {
   "cell_type": "code",
   "execution_count": 23,
   "metadata": {
    "colab": {
     "base_uri": "https://localhost:8080/"
    },
    "id": "Zlv1W9V6kGYh",
    "outputId": "e7be8392-cf13-4f5e-f166-c99550323f06"
   },
   "outputs": [
    {
     "data": {
      "text/plain": [
       "(1379, 35)"
      ]
     },
     "execution_count": 23,
     "metadata": {},
     "output_type": "execute_result"
    }
   ],
   "source": [
    "NY_Housing.shape"
   ]
  },
  {
   "cell_type": "code",
   "execution_count": 24,
   "metadata": {
    "colab": {
     "base_uri": "https://localhost:8080/"
    },
    "id": "athourTTkPAm",
    "outputId": "552748a7-c89a-4808-a8e6-a765c46986fc"
   },
   "outputs": [
    {
     "data": {
      "text/plain": [
       "0       208500\n",
       "1       181500\n",
       "2       223500\n",
       "3       140000\n",
       "4       250000\n",
       "         ...  \n",
       "1374    175000\n",
       "1375    210000\n",
       "1376    266500\n",
       "1377    142125\n",
       "1378    147500\n",
       "Name: SalePrice, Length: 1379, dtype: int64"
      ]
     },
     "execution_count": 24,
     "metadata": {},
     "output_type": "execute_result"
    }
   ],
   "source": [
    "NY_Housing.SalePrice"
   ]
  },
  {
   "cell_type": "code",
   "execution_count": 25,
   "metadata": {
    "colab": {
     "base_uri": "https://localhost:8080/",
     "height": 487
    },
    "id": "7ypBNh8gkaP0",
    "outputId": "89356401-a338-4b10-8691-ed25148ab856"
   },
   "outputs": [
    {
     "data": {
      "text/html": [
       "<div>\n",
       "<style scoped>\n",
       "    .dataframe tbody tr th:only-of-type {\n",
       "        vertical-align: middle;\n",
       "    }\n",
       "\n",
       "    .dataframe tbody tr th {\n",
       "        vertical-align: top;\n",
       "    }\n",
       "\n",
       "    .dataframe thead th {\n",
       "        text-align: right;\n",
       "    }\n",
       "</style>\n",
       "<table border=\"1\" class=\"dataframe\">\n",
       "  <thead>\n",
       "    <tr style=\"text-align: right;\">\n",
       "      <th></th>\n",
       "      <th>LotFrontage</th>\n",
       "      <th>LotArea</th>\n",
       "      <th>OverallQual</th>\n",
       "      <th>OverallCond</th>\n",
       "      <th>YearBuilt</th>\n",
       "      <th>YearRemodAdd</th>\n",
       "      <th>MasVnrArea</th>\n",
       "      <th>BsmtFinSF1</th>\n",
       "      <th>BsmtFinSF2</th>\n",
       "      <th>BsmtUnfSF</th>\n",
       "      <th>...</th>\n",
       "      <th>GarageCars</th>\n",
       "      <th>GarageArea</th>\n",
       "      <th>WoodDeckSF</th>\n",
       "      <th>OpenPorchSF</th>\n",
       "      <th>EnclosedPorch</th>\n",
       "      <th>3SsnPorch</th>\n",
       "      <th>ScreenPorch</th>\n",
       "      <th>PoolArea</th>\n",
       "      <th>MiscVal</th>\n",
       "      <th>YrSold</th>\n",
       "    </tr>\n",
       "  </thead>\n",
       "  <tbody>\n",
       "    <tr>\n",
       "      <th>0</th>\n",
       "      <td>65.0</td>\n",
       "      <td>8450</td>\n",
       "      <td>7</td>\n",
       "      <td>5</td>\n",
       "      <td>2003</td>\n",
       "      <td>2003</td>\n",
       "      <td>196.0</td>\n",
       "      <td>706</td>\n",
       "      <td>0</td>\n",
       "      <td>150</td>\n",
       "      <td>...</td>\n",
       "      <td>2</td>\n",
       "      <td>548</td>\n",
       "      <td>0</td>\n",
       "      <td>61</td>\n",
       "      <td>0</td>\n",
       "      <td>0</td>\n",
       "      <td>0</td>\n",
       "      <td>0</td>\n",
       "      <td>0</td>\n",
       "      <td>2008</td>\n",
       "    </tr>\n",
       "    <tr>\n",
       "      <th>1</th>\n",
       "      <td>80.0</td>\n",
       "      <td>9600</td>\n",
       "      <td>6</td>\n",
       "      <td>8</td>\n",
       "      <td>1976</td>\n",
       "      <td>1976</td>\n",
       "      <td>0.0</td>\n",
       "      <td>978</td>\n",
       "      <td>0</td>\n",
       "      <td>284</td>\n",
       "      <td>...</td>\n",
       "      <td>2</td>\n",
       "      <td>460</td>\n",
       "      <td>298</td>\n",
       "      <td>0</td>\n",
       "      <td>0</td>\n",
       "      <td>0</td>\n",
       "      <td>0</td>\n",
       "      <td>0</td>\n",
       "      <td>0</td>\n",
       "      <td>2007</td>\n",
       "    </tr>\n",
       "    <tr>\n",
       "      <th>2</th>\n",
       "      <td>68.0</td>\n",
       "      <td>11250</td>\n",
       "      <td>7</td>\n",
       "      <td>5</td>\n",
       "      <td>2001</td>\n",
       "      <td>2002</td>\n",
       "      <td>162.0</td>\n",
       "      <td>486</td>\n",
       "      <td>0</td>\n",
       "      <td>434</td>\n",
       "      <td>...</td>\n",
       "      <td>2</td>\n",
       "      <td>608</td>\n",
       "      <td>0</td>\n",
       "      <td>42</td>\n",
       "      <td>0</td>\n",
       "      <td>0</td>\n",
       "      <td>0</td>\n",
       "      <td>0</td>\n",
       "      <td>0</td>\n",
       "      <td>2008</td>\n",
       "    </tr>\n",
       "    <tr>\n",
       "      <th>3</th>\n",
       "      <td>60.0</td>\n",
       "      <td>9550</td>\n",
       "      <td>7</td>\n",
       "      <td>5</td>\n",
       "      <td>1915</td>\n",
       "      <td>1970</td>\n",
       "      <td>0.0</td>\n",
       "      <td>216</td>\n",
       "      <td>0</td>\n",
       "      <td>540</td>\n",
       "      <td>...</td>\n",
       "      <td>3</td>\n",
       "      <td>642</td>\n",
       "      <td>0</td>\n",
       "      <td>35</td>\n",
       "      <td>272</td>\n",
       "      <td>0</td>\n",
       "      <td>0</td>\n",
       "      <td>0</td>\n",
       "      <td>0</td>\n",
       "      <td>2006</td>\n",
       "    </tr>\n",
       "    <tr>\n",
       "      <th>4</th>\n",
       "      <td>84.0</td>\n",
       "      <td>14260</td>\n",
       "      <td>8</td>\n",
       "      <td>5</td>\n",
       "      <td>2000</td>\n",
       "      <td>2000</td>\n",
       "      <td>350.0</td>\n",
       "      <td>655</td>\n",
       "      <td>0</td>\n",
       "      <td>490</td>\n",
       "      <td>...</td>\n",
       "      <td>3</td>\n",
       "      <td>836</td>\n",
       "      <td>192</td>\n",
       "      <td>84</td>\n",
       "      <td>0</td>\n",
       "      <td>0</td>\n",
       "      <td>0</td>\n",
       "      <td>0</td>\n",
       "      <td>0</td>\n",
       "      <td>2008</td>\n",
       "    </tr>\n",
       "    <tr>\n",
       "      <th>...</th>\n",
       "      <td>...</td>\n",
       "      <td>...</td>\n",
       "      <td>...</td>\n",
       "      <td>...</td>\n",
       "      <td>...</td>\n",
       "      <td>...</td>\n",
       "      <td>...</td>\n",
       "      <td>...</td>\n",
       "      <td>...</td>\n",
       "      <td>...</td>\n",
       "      <td>...</td>\n",
       "      <td>...</td>\n",
       "      <td>...</td>\n",
       "      <td>...</td>\n",
       "      <td>...</td>\n",
       "      <td>...</td>\n",
       "      <td>...</td>\n",
       "      <td>...</td>\n",
       "      <td>...</td>\n",
       "      <td>...</td>\n",
       "      <td>...</td>\n",
       "    </tr>\n",
       "    <tr>\n",
       "      <th>1374</th>\n",
       "      <td>62.0</td>\n",
       "      <td>7917</td>\n",
       "      <td>6</td>\n",
       "      <td>5</td>\n",
       "      <td>1999</td>\n",
       "      <td>2000</td>\n",
       "      <td>0.0</td>\n",
       "      <td>0</td>\n",
       "      <td>0</td>\n",
       "      <td>953</td>\n",
       "      <td>...</td>\n",
       "      <td>2</td>\n",
       "      <td>460</td>\n",
       "      <td>0</td>\n",
       "      <td>40</td>\n",
       "      <td>0</td>\n",
       "      <td>0</td>\n",
       "      <td>0</td>\n",
       "      <td>0</td>\n",
       "      <td>0</td>\n",
       "      <td>2007</td>\n",
       "    </tr>\n",
       "    <tr>\n",
       "      <th>1375</th>\n",
       "      <td>85.0</td>\n",
       "      <td>13175</td>\n",
       "      <td>6</td>\n",
       "      <td>6</td>\n",
       "      <td>1978</td>\n",
       "      <td>1988</td>\n",
       "      <td>119.0</td>\n",
       "      <td>790</td>\n",
       "      <td>163</td>\n",
       "      <td>589</td>\n",
       "      <td>...</td>\n",
       "      <td>2</td>\n",
       "      <td>500</td>\n",
       "      <td>349</td>\n",
       "      <td>0</td>\n",
       "      <td>0</td>\n",
       "      <td>0</td>\n",
       "      <td>0</td>\n",
       "      <td>0</td>\n",
       "      <td>0</td>\n",
       "      <td>2010</td>\n",
       "    </tr>\n",
       "    <tr>\n",
       "      <th>1376</th>\n",
       "      <td>66.0</td>\n",
       "      <td>9042</td>\n",
       "      <td>7</td>\n",
       "      <td>9</td>\n",
       "      <td>1941</td>\n",
       "      <td>2006</td>\n",
       "      <td>0.0</td>\n",
       "      <td>275</td>\n",
       "      <td>0</td>\n",
       "      <td>877</td>\n",
       "      <td>...</td>\n",
       "      <td>1</td>\n",
       "      <td>252</td>\n",
       "      <td>0</td>\n",
       "      <td>60</td>\n",
       "      <td>0</td>\n",
       "      <td>0</td>\n",
       "      <td>0</td>\n",
       "      <td>0</td>\n",
       "      <td>2500</td>\n",
       "      <td>2010</td>\n",
       "    </tr>\n",
       "    <tr>\n",
       "      <th>1377</th>\n",
       "      <td>68.0</td>\n",
       "      <td>9717</td>\n",
       "      <td>5</td>\n",
       "      <td>6</td>\n",
       "      <td>1950</td>\n",
       "      <td>1996</td>\n",
       "      <td>0.0</td>\n",
       "      <td>49</td>\n",
       "      <td>1029</td>\n",
       "      <td>0</td>\n",
       "      <td>...</td>\n",
       "      <td>1</td>\n",
       "      <td>240</td>\n",
       "      <td>366</td>\n",
       "      <td>0</td>\n",
       "      <td>112</td>\n",
       "      <td>0</td>\n",
       "      <td>0</td>\n",
       "      <td>0</td>\n",
       "      <td>0</td>\n",
       "      <td>2010</td>\n",
       "    </tr>\n",
       "    <tr>\n",
       "      <th>1378</th>\n",
       "      <td>75.0</td>\n",
       "      <td>9937</td>\n",
       "      <td>5</td>\n",
       "      <td>6</td>\n",
       "      <td>1965</td>\n",
       "      <td>1965</td>\n",
       "      <td>0.0</td>\n",
       "      <td>830</td>\n",
       "      <td>290</td>\n",
       "      <td>136</td>\n",
       "      <td>...</td>\n",
       "      <td>1</td>\n",
       "      <td>276</td>\n",
       "      <td>736</td>\n",
       "      <td>68</td>\n",
       "      <td>0</td>\n",
       "      <td>0</td>\n",
       "      <td>0</td>\n",
       "      <td>0</td>\n",
       "      <td>0</td>\n",
       "      <td>2008</td>\n",
       "    </tr>\n",
       "  </tbody>\n",
       "</table>\n",
       "<p>1379 rows × 34 columns</p>\n",
       "</div>"
      ],
      "text/plain": [
       "      LotFrontage  LotArea  OverallQual  OverallCond  YearBuilt  YearRemodAdd  \\\n",
       "0            65.0     8450            7            5       2003          2003   \n",
       "1            80.0     9600            6            8       1976          1976   \n",
       "2            68.0    11250            7            5       2001          2002   \n",
       "3            60.0     9550            7            5       1915          1970   \n",
       "4            84.0    14260            8            5       2000          2000   \n",
       "...           ...      ...          ...          ...        ...           ...   \n",
       "1374         62.0     7917            6            5       1999          2000   \n",
       "1375         85.0    13175            6            6       1978          1988   \n",
       "1376         66.0     9042            7            9       1941          2006   \n",
       "1377         68.0     9717            5            6       1950          1996   \n",
       "1378         75.0     9937            5            6       1965          1965   \n",
       "\n",
       "      MasVnrArea  BsmtFinSF1  BsmtFinSF2  BsmtUnfSF  ...  GarageCars  \\\n",
       "0          196.0         706           0        150  ...           2   \n",
       "1            0.0         978           0        284  ...           2   \n",
       "2          162.0         486           0        434  ...           2   \n",
       "3            0.0         216           0        540  ...           3   \n",
       "4          350.0         655           0        490  ...           3   \n",
       "...          ...         ...         ...        ...  ...         ...   \n",
       "1374         0.0           0           0        953  ...           2   \n",
       "1375       119.0         790         163        589  ...           2   \n",
       "1376         0.0         275           0        877  ...           1   \n",
       "1377         0.0          49        1029          0  ...           1   \n",
       "1378         0.0         830         290        136  ...           1   \n",
       "\n",
       "      GarageArea  WoodDeckSF  OpenPorchSF  EnclosedPorch  3SsnPorch  \\\n",
       "0            548           0           61              0          0   \n",
       "1            460         298            0              0          0   \n",
       "2            608           0           42              0          0   \n",
       "3            642           0           35            272          0   \n",
       "4            836         192           84              0          0   \n",
       "...          ...         ...          ...            ...        ...   \n",
       "1374         460           0           40              0          0   \n",
       "1375         500         349            0              0          0   \n",
       "1376         252           0           60              0          0   \n",
       "1377         240         366            0            112          0   \n",
       "1378         276         736           68              0          0   \n",
       "\n",
       "      ScreenPorch  PoolArea  MiscVal  YrSold  \n",
       "0               0         0        0    2008  \n",
       "1               0         0        0    2007  \n",
       "2               0         0        0    2008  \n",
       "3               0         0        0    2006  \n",
       "4               0         0        0    2008  \n",
       "...           ...       ...      ...     ...  \n",
       "1374            0         0        0    2007  \n",
       "1375            0         0        0    2010  \n",
       "1376            0         0     2500    2010  \n",
       "1377            0         0        0    2010  \n",
       "1378            0         0        0    2008  \n",
       "\n",
       "[1379 rows x 34 columns]"
      ]
     },
     "execution_count": 25,
     "metadata": {},
     "output_type": "execute_result"
    }
   ],
   "source": [
    "NY_Housing.iloc[:,:-1]"
   ]
  },
  {
   "cell_type": "code",
   "execution_count": 26,
   "metadata": {
    "id": "2XSEtwOHMsIS"
   },
   "outputs": [],
   "source": [
    "# making Independent and Dependent variables from the dataset\n",
    "X = NY_Housing.iloc[:,:-1] # Selecting everything except the last column\n",
    "y = NY_Housing.SalePrice   "
   ]
  },
  {
   "cell_type": "code",
   "execution_count": 27,
   "metadata": {
    "colab": {
     "base_uri": "https://localhost:8080/"
    },
    "id": "ZLyIn3K0MsIS",
    "outputId": "c52e7245-10d8-4a91-ef0d-9970d7aacfb3"
   },
   "outputs": [
    {
     "data": {
      "text/plain": [
       "LinearRegression()"
      ]
     },
     "execution_count": 27,
     "metadata": {},
     "output_type": "execute_result"
    }
   ],
   "source": [
    "# Fitting Multiple Linear Regression\n",
    "from sklearn.linear_model import LinearRegression\n",
    "regressor = LinearRegression() \n",
    "regressor.fit(X, y)"
   ]
  },
  {
   "cell_type": "code",
   "execution_count": 28,
   "metadata": {
    "colab": {
     "base_uri": "https://localhost:8080/"
    },
    "id": "zr_-j89iMsIT",
    "outputId": "33f9cdbb-cb28-45ae-edc5-a5c03275271c"
   },
   "outputs": [
    {
     "name": "stdout",
     "output_type": "stream",
     "text": [
      "intercept: 310649.26008898695\n",
      "coefficients of predictors: [ 4.21581098e+01  4.41367617e-01  1.77089455e+04  5.84597164e+03\n",
      "  3.59658315e+02  1.19385237e+02  2.59435150e+01  9.76748897e+00\n",
      "  7.65860417e-01 -6.61329858e-01  9.87201954e+00  1.96567898e+01\n",
      "  1.31846867e+01 -4.66155080e+00  2.81799257e+01  6.78157998e+03\n",
      "  3.36169287e+02  1.40344800e+03 -2.93573021e+03 -8.64074712e+03\n",
      " -3.35073713e+04  6.10172168e+03  3.20869122e+03 -8.23684306e+01\n",
      "  1.56189970e+04  9.59392447e+00  2.51559075e+01  5.60981357e-01\n",
      "  1.07712460e+01  2.51081902e+01  5.36124522e+01 -4.13099007e+01\n",
      " -8.16461371e-02 -5.83097021e+02]\n"
     ]
    }
   ],
   "source": [
    "print(\"intercept:\", regressor.intercept_) # This is the y-intercept \n",
    "print(\"coefficients of predictors:\", regressor.coef_) # These are the weights or regression coefficients."
   ]
  },
  {
   "cell_type": "markdown",
   "metadata": {
    "id": "G0vLVb0cMsIT"
   },
   "source": [
    "<br><br><br>\n",
    "### Predicting the price\n",
    "***\n",
    "Now let's say I want to predict the price of a house with following specifications."
   ]
  },
  {
   "cell_type": "code",
   "execution_count": 29,
   "metadata": {
    "colab": {
     "base_uri": "https://localhost:8080/"
    },
    "id": "SEzkdt8EMsIT",
    "outputId": "2c101fc5-2591-45ef-dba9-7f82037dc24b",
    "scrolled": false
   },
   "outputs": [
    {
     "data": {
      "text/plain": [
       "LotFrontage          0.0\n",
       "LotArea          16669.0\n",
       "OverallQual          8.0\n",
       "OverallCond          6.0\n",
       "YearBuilt         1981.0\n",
       "YearRemodAdd      1981.0\n",
       "MasVnrArea         653.0\n",
       "BsmtFinSF1           0.0\n",
       "BsmtFinSF2           0.0\n",
       "BsmtUnfSF         1686.0\n",
       "TotalBsmtSF       1686.0\n",
       "1stFlrSF          1707.0\n",
       "2ndFlrSF             0.0\n",
       "LowQualFinSF         0.0\n",
       "GrLivArea         1707.0\n",
       "BsmtFullBath         0.0\n",
       "BsmtHalfBath         0.0\n",
       "FullBath             2.0\n",
       "HalfBath             1.0\n",
       "BedroomAbvGr         2.0\n",
       "KitchenAbvGr         1.0\n",
       "TotRmsAbvGrd         6.0\n",
       "Fireplaces           1.0\n",
       "GarageYrBlt       1981.0\n",
       "GarageCars           2.0\n",
       "GarageArea         511.0\n",
       "WoodDeckSF         574.0\n",
       "OpenPorchSF         64.0\n",
       "EnclosedPorch        0.0\n",
       "3SsnPorch            0.0\n",
       "ScreenPorch          0.0\n",
       "PoolArea             0.0\n",
       "MiscVal              0.0\n",
       "YrSold            2006.0\n",
       "Name: 155, dtype: float64"
      ]
     },
     "execution_count": 29,
     "metadata": {},
     "output_type": "execute_result"
    }
   ],
   "source": [
    "my_house = X.iloc[155]\n",
    "my_house"
   ]
  },
  {
   "cell_type": "code",
   "execution_count": 30,
   "metadata": {
    "colab": {
     "base_uri": "https://localhost:8080/"
    },
    "id": "Z-NBKjz8MsIU",
    "outputId": "fba6aaa9-ad8b-49b8-9e05-e9dcfcb44c9f"
   },
   "outputs": [
    {
     "name": "stdout",
     "output_type": "stream",
     "text": [
      "predicted value: 264519.4185702696\n"
     ]
    }
   ],
   "source": [
    "pred_my_house = regressor.predict(my_house.values.reshape(1, -1))\n",
    "print(\"predicted value:\", pred_my_house[0])"
   ]
  },
  {
   "cell_type": "code",
   "execution_count": 31,
   "metadata": {
    "colab": {
     "base_uri": "https://localhost:8080/"
    },
    "id": "8EE4UFaZm3AU",
    "outputId": "f912f299-c111-48c6-f6db-dcb6eac9ab15"
   },
   "outputs": [
    {
     "name": "stdout",
     "output_type": "stream",
     "text": [
      "prediction value [264519.41857027 133930.14052244]\n"
     ]
    }
   ],
   "source": [
    "pred_my_house = regressor.predict(NY_Housing.iloc[155:157, :-1])\n",
    "print(\"prediction value\", pred_my_house)"
   ]
  },
  {
   "cell_type": "code",
   "execution_count": 32,
   "metadata": {
    "colab": {
     "base_uri": "https://localhost:8080/"
    },
    "id": "qYBP0FyaMsIU",
    "outputId": "59e247ba-e452-4d41-dca9-ec99ce8d2104"
   },
   "outputs": [
    {
     "name": "stdout",
     "output_type": "stream",
     "text": [
      "actual value: 228000\n"
     ]
    }
   ],
   "source": [
    "print(\"actual value:\", y[155])"
   ]
  },
  {
   "cell_type": "markdown",
   "metadata": {
    "id": "o3Yb05N1MsIV"
   },
   "source": [
    "As you can see the predicted value is not very far away from the actual value.\n",
    "\n",
    "Now let's try to predict the price for all the houses in the dataset."
   ]
  },
  {
   "cell_type": "code",
   "execution_count": 33,
   "metadata": {
    "colab": {
     "base_uri": "https://localhost:8080/"
    },
    "id": "iu_EHQ35MsIV",
    "outputId": "9590f2d1-592c-4d30-dee5-5a7e512a0209",
    "scrolled": true
   },
   "outputs": [
    {
     "data": {
      "text/plain": [
       "array([223165.24462329, 193708.14702761, 216394.79759077, 197356.62505514,\n",
       "       295125.75398644, 172516.96207707, 269477.13355181, 245198.81455231,\n",
       "       168787.92247658,  87185.78920276])"
      ]
     },
     "execution_count": 33,
     "metadata": {},
     "output_type": "execute_result"
    }
   ],
   "source": [
    "# Predicting the results\n",
    "y_pred = regressor.predict(X)\n",
    "y_pred[:10]"
   ]
  },
  {
   "cell_type": "markdown",
   "metadata": {
    "id": "vMwnYS6HMsIW"
   },
   "source": [
    "<div class=\"alert alert-block alert-success\">Great! now, let's put the predicted values next to the actual values and see how good a job have we done!</div>"
   ]
  },
  {
   "cell_type": "code",
   "execution_count": 34,
   "metadata": {
    "colab": {
     "base_uri": "https://localhost:8080/",
     "height": 363
    },
    "id": "7b4eC0YTMsIW",
    "outputId": "2442fb1a-fd75-4f2b-f6a9-4badcada46ba"
   },
   "outputs": [
    {
     "data": {
      "text/html": [
       "<div>\n",
       "<style scoped>\n",
       "    .dataframe tbody tr th:only-of-type {\n",
       "        vertical-align: middle;\n",
       "    }\n",
       "\n",
       "    .dataframe tbody tr th {\n",
       "        vertical-align: top;\n",
       "    }\n",
       "\n",
       "    .dataframe thead th {\n",
       "        text-align: right;\n",
       "    }\n",
       "</style>\n",
       "<table border=\"1\" class=\"dataframe\">\n",
       "  <thead>\n",
       "    <tr style=\"text-align: right;\">\n",
       "      <th></th>\n",
       "      <th>actual</th>\n",
       "      <th>predicted</th>\n",
       "    </tr>\n",
       "  </thead>\n",
       "  <tbody>\n",
       "    <tr>\n",
       "      <th>0</th>\n",
       "      <td>208500</td>\n",
       "      <td>223165.244623</td>\n",
       "    </tr>\n",
       "    <tr>\n",
       "      <th>1</th>\n",
       "      <td>181500</td>\n",
       "      <td>193708.147028</td>\n",
       "    </tr>\n",
       "    <tr>\n",
       "      <th>2</th>\n",
       "      <td>223500</td>\n",
       "      <td>216394.797591</td>\n",
       "    </tr>\n",
       "    <tr>\n",
       "      <th>3</th>\n",
       "      <td>140000</td>\n",
       "      <td>197356.625055</td>\n",
       "    </tr>\n",
       "    <tr>\n",
       "      <th>4</th>\n",
       "      <td>250000</td>\n",
       "      <td>295125.753986</td>\n",
       "    </tr>\n",
       "    <tr>\n",
       "      <th>5</th>\n",
       "      <td>143000</td>\n",
       "      <td>172516.962077</td>\n",
       "    </tr>\n",
       "    <tr>\n",
       "      <th>6</th>\n",
       "      <td>307000</td>\n",
       "      <td>269477.133552</td>\n",
       "    </tr>\n",
       "    <tr>\n",
       "      <th>7</th>\n",
       "      <td>200000</td>\n",
       "      <td>245198.814552</td>\n",
       "    </tr>\n",
       "    <tr>\n",
       "      <th>8</th>\n",
       "      <td>129900</td>\n",
       "      <td>168787.922477</td>\n",
       "    </tr>\n",
       "    <tr>\n",
       "      <th>9</th>\n",
       "      <td>118000</td>\n",
       "      <td>87185.789203</td>\n",
       "    </tr>\n",
       "  </tbody>\n",
       "</table>\n",
       "</div>"
      ],
      "text/plain": [
       "   actual      predicted\n",
       "0  208500  223165.244623\n",
       "1  181500  193708.147028\n",
       "2  223500  216394.797591\n",
       "3  140000  197356.625055\n",
       "4  250000  295125.753986\n",
       "5  143000  172516.962077\n",
       "6  307000  269477.133552\n",
       "7  200000  245198.814552\n",
       "8  129900  168787.922477\n",
       "9  118000   87185.789203"
      ]
     },
     "execution_count": 34,
     "metadata": {},
     "output_type": "execute_result"
    }
   ],
   "source": [
    "prices = pd.DataFrame({\"actual\": y,\n",
    "          \"predicted\": y_pred})\n",
    "prices.head(10)"
   ]
  },
  {
   "cell_type": "markdown",
   "metadata": {
    "id": "LUnkfeKbMsIW"
   },
   "source": [
    "<br><br><br>\n",
    "## Measuring the goodness of fit\n",
    "***\n",
    "Must say we have done a reasonably good job of predicting the house prices.\n",
    "\n",
    "However, as the number of predictions increase it would be difficult to manually check the goodness of fit. In such a case, we can use the cost function to check the goodness of fit.\n",
    "\n",
    "<div class=\"alert alert-block alert-success\">Let's find the r2_score</div>\n"
   ]
  },
  {
   "cell_type": "code",
   "execution_count": 35,
   "metadata": {
    "colab": {
     "base_uri": "https://localhost:8080/"
    },
    "id": "2WoZAU5oMsIW",
    "outputId": "46bfb230-14dc-4e3a-f2c4-b2fcbce1d45d"
   },
   "outputs": [
    {
     "data": {
      "text/plain": [
       "0.8046479859403064"
      ]
     },
     "execution_count": 35,
     "metadata": {},
     "output_type": "execute_result"
    }
   ],
   "source": [
    "from sklearn.metrics import r2_score\n",
    "r2_score(y,y_pred)"
   ]
  },
  {
   "cell_type": "markdown",
   "metadata": {
    "id": "vPYLZxztMsIW"
   },
   "source": [
    "<br><br><br>\n",
    "### Other evaluation metrics for Regression\n",
    "***\n",
    "    - Evaluating our model will help us know how well we're doing with our current selection of Features from the data, hyperparameters, etc. \n",
    "    \n",
    "- There are three basic evaluation metrics for regression to check the goodness of fit.\n",
    "\n",
    "    - Mean Absolute Error\n",
    "    - Root Mean square Error\n",
    "    - R-Square (Residual value)"
   ]
  },
  {
   "cell_type": "markdown",
   "metadata": {
    "id": "dYUXVM69MsIX"
   },
   "source": [
    "### Thank You !!!"
   ]
  },
  {
   "cell_type": "code",
   "execution_count": null,
   "metadata": {
    "id": "X2-Ij7ZSMsIX"
   },
   "outputs": [],
   "source": []
  }
 ],
 "metadata": {
  "anaconda-cloud": {},
  "colab": {
   "collapsed_sections": [
    "7E7KZSrZMsIP",
    "YXRMXYMfMsIP",
    "gNRBEq0MMsIP",
    "jfvV8wNaMsIP",
    "JedQXVjVMsIP",
    "KbuYlSRdMsIQ",
    "c3LpzVK7MsIQ",
    "vPYLZxztMsIW",
    "dYUXVM69MsIX"
   ],
   "name": "Module4_Section1_Lab1_Linear_Regression.ipynb",
   "provenance": []
  },
  "kernelspec": {
   "display_name": "Python 3 (ipykernel)",
   "language": "python",
   "name": "python3"
  },
  "language_info": {
   "codemirror_mode": {
    "name": "ipython",
    "version": 3
   },
   "file_extension": ".py",
   "mimetype": "text/x-python",
   "name": "python",
   "nbconvert_exporter": "python",
   "pygments_lexer": "ipython3",
   "version": "3.9.7"
  }
 },
 "nbformat": 4,
 "nbformat_minor": 1
}
