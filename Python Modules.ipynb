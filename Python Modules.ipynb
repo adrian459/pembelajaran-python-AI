{
 "cells": [
  {
   "cell_type": "markdown",
   "id": "5ce54c73",
   "metadata": {},
   "source": [
    "# Python Custom Modules"
   ]
  },
  {
   "cell_type": "code",
   "execution_count": 1,
   "id": "c9a5ec15",
   "metadata": {},
   "outputs": [],
   "source": [
    "import coba_fungsi as cf\n",
    "import bangun_datar as bd"
   ]
  },
  {
   "cell_type": "code",
   "execution_count": 2,
   "id": "b50bde6a",
   "metadata": {},
   "outputs": [
    {
     "name": "stdout",
     "output_type": "stream",
     "text": [
      "Hallo\n"
     ]
    }
   ],
   "source": [
    "cf.hallo()"
   ]
  },
  {
   "cell_type": "code",
   "execution_count": 3,
   "id": "aefcbd9f",
   "metadata": {},
   "outputs": [
    {
     "name": "stdout",
     "output_type": "stream",
     "text": [
      "Hello\n"
     ]
    }
   ],
   "source": [
    "bd.hello()"
   ]
  },
  {
   "cell_type": "code",
   "execution_count": 4,
   "id": "40aff082",
   "metadata": {},
   "outputs": [
    {
     "data": {
      "text/plain": [
       "12"
      ]
     },
     "execution_count": 4,
     "metadata": {},
     "output_type": "execute_result"
    }
   ],
   "source": [
    "bd.pertambahan(5,7)"
   ]
  },
  {
   "cell_type": "code",
   "execution_count": 5,
   "id": "11deaae7",
   "metadata": {},
   "outputs": [
    {
     "ename": "AttributeError",
     "evalue": "module 'bangun_datar' has no attribute 'calculate_area'",
     "output_type": "error",
     "traceback": [
      "\u001b[1;31m---------------------------------------------------------------------------\u001b[0m",
      "\u001b[1;31mAttributeError\u001b[0m                            Traceback (most recent call last)",
      "\u001b[1;32m~\\AppData\\Local\\Temp/ipykernel_8200/2063736984.py\u001b[0m in \u001b[0;36m<module>\u001b[1;34m\u001b[0m\n\u001b[1;32m----> 1\u001b[1;33m \u001b[0mbd\u001b[0m\u001b[1;33m.\u001b[0m\u001b[0mcalculate_area\u001b[0m\u001b[1;33m(\u001b[0m\u001b[1;33m)\u001b[0m\u001b[1;33m\u001b[0m\u001b[1;33m\u001b[0m\u001b[0m\n\u001b[0m",
      "\u001b[1;31mAttributeError\u001b[0m: module 'bangun_datar' has no attribute 'calculate_area'"
     ]
    }
   ],
   "source": [
    "bd.calculate_area()"
   ]
  },
  {
   "cell_type": "code",
   "execution_count": 6,
   "id": "9389013f",
   "metadata": {},
   "outputs": [],
   "source": [
    "lingkaran1 = bd.Circle(7)"
   ]
  },
  {
   "cell_type": "code",
   "execution_count": 8,
   "id": "af65ca83",
   "metadata": {},
   "outputs": [
    {
     "name": "stdout",
     "output_type": "stream",
     "text": [
      "Area of circle: 153.86\n"
     ]
    }
   ],
   "source": [
    "lingkaran1.calculate_area()"
   ]
  },
  {
   "cell_type": "code",
   "execution_count": 9,
   "id": "e03d259c",
   "metadata": {},
   "outputs": [],
   "source": [
    "persegi1 = bd.Square(4)"
   ]
  },
  {
   "cell_type": "code",
   "execution_count": 10,
   "id": "8d4123be",
   "metadata": {},
   "outputs": [
    {
     "name": "stdout",
     "output_type": "stream",
     "text": [
      "Area of Square: 16\n"
     ]
    }
   ],
   "source": [
    "persegi1.calculate_area()"
   ]
  },
  {
   "cell_type": "code",
   "execution_count": 11,
   "id": "9ab6104e",
   "metadata": {},
   "outputs": [],
   "source": [
    "triangle1 = bd.Triangle(10,7)"
   ]
  },
  {
   "cell_type": "code",
   "execution_count": 12,
   "id": "50005219",
   "metadata": {},
   "outputs": [
    {
     "name": "stdout",
     "output_type": "stream",
     "text": [
      "Area of Square: 35.0\n"
     ]
    }
   ],
   "source": [
    "triangle1.calculate_area()"
   ]
  },
  {
   "cell_type": "markdown",
   "id": "ba82add3",
   "metadata": {},
   "source": [
    "# Python Build in Modules"
   ]
  },
  {
   "cell_type": "code",
   "execution_count": 6,
   "id": "8c6d4d1c",
   "metadata": {},
   "outputs": [
    {
     "name": "stdout",
     "output_type": "stream",
     "text": [
      "\n",
      "Please wait a moment while I gather a list of all available modules...\n",
      "\n"
     ]
    },
    {
     "name": "stderr",
     "output_type": "stream",
     "text": [
      "F:\\Anaconda3\\lib\\site-packages\\IPython\\kernel\\__init__.py:12: ShimWarning: The `IPython.kernel` package has been deprecated since IPython 4.0.You should import from ipykernel or jupyter_client instead.\n",
      "  warn(\"The `IPython.kernel` package has been deprecated since IPython 4.0.\"\n",
      "WARNING: AstropyDeprecationWarning: The private astropy._erfa module has been made into its own package, pyerfa, which is a dependency of astropy and can be imported directly using \"import erfa\" [astropy._erfa]\n",
      "F:\\Anaconda3\\lib\\pkgutil.py:93: MatplotlibDeprecationWarning: \n",
      "The matplotlib.compat module was deprecated in Matplotlib 3.3 and will be removed two minor releases later.\n",
      "  __import__(info.name)\n",
      "F:\\Anaconda3\\lib\\site-packages\\nltk\\twitter\\__init__.py:20: UserWarning: The twython library has not been installed. Some functionality from the twitter package will not be available.\n",
      "  warnings.warn(\n"
     ]
    },
    {
     "name": "stdout",
     "output_type": "stream",
     "text": [
      "Update LANGUAGE_CODES (inside config/base.py) if a new translation has been added to Spyder\n"
     ]
    },
    {
     "name": "stderr",
     "output_type": "stream",
     "text": [
      "QSS file sucessfuly loaded.\n",
      "Found application patches to be applied.\n",
      "No QCoreApplication instance found. Application patches not applied. You have to call load_stylesheet function after instantiation of QApplication to take effect. \n",
      "F:\\Anaconda3\\lib\\pkgutil.py:108: VisibleDeprecationWarning: zmq.eventloop.minitornado is deprecated in pyzmq 14.0 and will be removed.\n",
      "    Install tornado itself to use zmq with the tornado IOLoop.\n",
      "    \n",
      "  yield from walk_packages(path, info.name+'.', onerror)\n"
     ]
    },
    {
     "name": "stdout",
     "output_type": "stream",
     "text": [
      "Cython              code                modulefinder        soupsieve\n",
      "IPython             codecs              more_itertools      sphinx\n",
      "OpenSSL             codeop              mpmath              sphinxcontrib\n",
      "PIL                 collections         msgpack             spyder\n",
      "PyQt5               colorama            msilib              spyder_kernels\n",
      "TBB                 colorsys            msvcrt              sqlalchemy\n",
      "__future__          commctrl            multipledispatch    sqlite3\n",
      "_abc                compileall          multiprocessing     sre_compile\n",
      "_aix_support        comtypes            munkres             sre_constants\n",
      "_ast                concurrent          mypy_extensions     sre_parse\n",
      "_asyncio            conda               nacl                ssl\n",
      "_bisect             conda_build         navigator_updater   sspi\n",
      "_black_version      conda_content_trust nbclassic           sspicon\n",
      "_blake2             conda_env           nbclient            stat\n",
      "_bootlocale         conda_pack          nbconvert           statistics\n",
      "_bootsubprocess     conda_package_handling nbformat            statsmodels\n",
      "_bz2                conda_token         nest_asyncio        storemagic\n",
      "_cffi_backend       conda_verify        netbios             string\n",
      "_codecs             configparser        netrc               stringprep\n",
      "_codecs_cn          contextlib          networkx            struct\n",
      "_codecs_hk          contextlib2         nltk                subprocess\n",
      "_codecs_iso2022     contextvars         nntplib             sunau\n",
      "_codecs_jp          cookiecutter        nose                symbol\n",
      "_codecs_kr          copy                notebook            sympy\n",
      "_codecs_tw          copyreg             nt                  sympyprinting\n",
      "_collections        crypt               ntpath              symtable\n",
      "_collections_abc    cryptography        ntsecuritycon       sys\n",
      "_compat_pickle      csv                 nturl2path          sysconfig\n",
      "_compression        ctypes              numba               tables\n",
      "_contextvars        curl                numbers             tabnanny\n",
      "_csv                curses              numexpr             tarfile\n",
      "_ctypes             cwp                 numpy               tbb\n",
      "_ctypes_test        cycler              numpydoc            tblib\n",
      "_daal4py            cython              odbc                telnetlib\n",
      "_datetime           cythonmagic         olefile             tempfile\n",
      "_decimal            cytoolz             onedal              terminado\n",
      "_distutils_hack     daal4py             opcode              test\n",
      "_elementtree        dask                openpyxl            test_data\n",
      "_functools          dataclasses         operator            test_pycosat\n",
      "_hashlib            datetime            optparse            testpath\n",
      "_heapq              dateutil            os                  tests\n",
      "_imp                dbi                 packaging           text_unidecode\n",
      "_io                 dbm                 pandas              textdistance\n",
      "_json               dde                 pandocfilters       textwrap\n",
      "_locale             debugpy             paramiko            this\n",
      "_lsprof             decimal             parser              threading\n",
      "_lzma               decorator           parso               threadpoolctl\n",
      "_markupbase         defusedxml          partd               three_merge\n",
      "_md5                diff_match_patch    past                tifffile\n",
      "_msi                difflib             path                time\n",
      "_multibytecodec     dis                 pathlib             timeit\n",
      "_multiprocessing    distributed         pathlib2            timer\n",
      "_nsis               distutils           pathspec            tinycss\n",
      "_onedal4py_host     doctest             patsy               tkinter\n",
      "_opcode             docutils            pdb                 tlz\n",
      "_operator           email               pep8                token\n",
      "_osx_support        encodings           perfmon             tokenize\n",
      "_overlapped         ensurepip           pexpect             toml\n",
      "_peg_parser         entrypoints         pickle              toolz\n",
      "_pickle             enum                pickleshare         tornado\n",
      "_py_abc             erfa                pickletools         tqdm\n",
      "_pydecimal          errno               pip                 trace\n",
      "_pyio               et_xmlfile          pipes               traceback\n",
      "_pyrsistent_version fastcache           pkg_resources       tracemalloc\n",
      "_pytest             faulthandler        pkginfo             traitlets\n",
      "_queue              filecmp             pkgutil             tty\n",
      "_random             fileinput           platform            turtle\n",
      "_sha1               filelock            plistlib            turtledemo\n",
      "_sha256             flake8              pluggy              typed_ast\n",
      "_sha3               flask               ply                 types\n",
      "_sha512             fnmatch             poplib              typing\n",
      "_signal             fontTools           posixpath           typing_extensions\n",
      "_sitebuiltins       formatter           poyo                ujson\n",
      "_socket             fractions           pprint              unicodecsv\n",
      "_sqlite3            fsspec              profile             unicodedata\n",
      "_sre                ftplib              prometheus_client   unidecode\n",
      "_ssl                functools           prompt_toolkit      unittest\n",
      "_stat               future              pstats              urllib\n",
      "_statistics         gc                  psutil              urllib3\n",
      "_string             genericpath         pty                 uu\n",
      "_strptime           getopt              ptyprocess          uuid\n",
      "_struct             getpass             pvectorc            venv\n",
      "_symtable           gettext             py                  warnings\n",
      "_system_path        gevent              py_compile          watchdog\n",
      "_testbuffer         glob                pyclbr              wave\n",
      "_testcapi           glob2               pycodestyle         wcwidth\n",
      "_testconsole        graphlib            pycosat             weakref\n",
      "_testimportmultiple greenlet            pycparser           webbrowser\n",
      "_testinternalcapi   gzip                pycurl              webencodings\n",
      "_testmultiphase     h5py                pydoc               werkzeug\n",
      "_thread             hashlib             pydoc_data          wheel\n",
      "_threading_local    heapdict            pydocstyle          whichcraft\n",
      "_tkinter            heapq               pyexpat             widgetsnbextension\n",
      "_tracemalloc        hmac                pyflakes            win2kras\n",
      "_uuid               html                pygments            win32api\n",
      "_warnings           html5lib            pylab               win32clipboard\n",
      "_weakref            http                pylint              win32com\n",
      "_weakrefset         idlelib             pyls_spyder         win32con\n",
      "_win32sysloader     idna                pylsp               win32console\n",
      "_winapi             imagecodecs         pylsp_black         win32cred\n",
      "_winxptheme         imageio             pylsp_jsonrpc       win32crypt\n",
      "_xxsubinterpreters  imagesize           pyodbc              win32cryptcon\n",
      "_yaml               imaplib             pyparsing           win32ctypes\n",
      "_zoneinfo           imghdr              pyreadline          win32event\n",
      "abc                 imp                 pyrsistent          win32evtlog\n",
      "adodbapi            importlib           pytest              win32evtlogutil\n",
      "afxres              importlib_metadata  pythoncom           win32file\n",
      "aifc                inflection          pytz                win32gui\n",
      "alabaster           iniconfig           pywin               win32gui_struct\n",
      "anaconda_navigator  inspect             pywin32_bootstrap   win32help\n",
      "anaconda_project    intervaltree        pywin32_testutil    win32inet\n",
      "antigravity         io                  pywintypes          win32inetcon\n",
      "anyio               ipaddress           pywt                win32job\n",
      "appdirs             ipykernel           pyximport           win32lz\n",
      "argh                ipykernel_launcher  qdarkstyle          win32net\n",
      "argon2              ipython_genutils    qstylizer           win32netcon\n",
      "argparse            ipywidgets          qtawesome           win32pdh\n",
      "array               isapi               qtconsole           win32pdhquery\n",
      "arrow               isort               qtpy                win32pdhutil\n",
      "asn1crypto          isympy              queue               win32pipe\n",
      "ast                 itertools           quopri              win32print\n",
      "astroid             itsdangerous        random              win32process\n",
      "astropy             jdcal               rasutil             win32profile\n",
      "async_generator     jedi                re                  win32ras\n",
      "asynchat            jinja2              readline            win32rcparser\n",
      "asyncio             jinja2_time         regcheck            win32security\n",
      "asyncore            joblib              regex               win32service\n",
      "atexit              json                regutil             win32serviceutil\n",
      "atomicwrites        json5               repo_cli            win32timezone\n",
      "attr                jsonschema          reprlib             win32trace\n",
      "audioop             jupyter             requests            win32traceutil\n",
      "autopep8            jupyter_client      rlcompleter         win32transaction\n",
      "autoreload          jupyter_console     rmagic              win32ts\n",
      "babel               jupyter_core        rope                win32ui\n",
      "backcall            jupyter_server      rtree               win32uiole\n",
      "backports           jupyterlab          ruamel_yaml         win32verstamp\n",
      "bangun_datar        jupyterlab_pygments run                 win32wnet\n",
      "base64              jupyterlab_server   runpy               win_inet_pton\n",
      "bcrypt              jupyterlab_widgets  sched               win_unicode_console\n",
      "bdb                 jwt                 scipy               wincertstore\n",
      "binaryornot         keyring             scripts             winerror\n",
      "binascii            keyword             seaborn             winioctlcon\n",
      "binhex              kiwisolver          secrets             winnt\n",
      "binstar_client      lazy_object_proxy   select              winperf\n",
      "bisect              lib2to3             selectors           winpty\n",
      "bitarray            libarchive          send2trash          winreg\n",
      "bkcharts            libfuturize         servicemanager      winsound\n",
      "black               libpasteurize       setuptools          winxpgui\n",
      "blackd              lief                shelve              winxptheme\n",
      "bleach              linecache           shlex               wrapt\n",
      "blib2to3            llvmlite            shutil              wsgiref\n",
      "bokeh               locale              signal              xdrlib\n",
      "boto                locket              simplegeneric       xlrd\n",
      "bottleneck          logging             singledispatch      xlsxwriter\n",
      "brotli              lxml                sip                 xlwings\n",
      "bs4                 lzma                sipconfig           xlwt\n",
      "builtins            mailbox             sipdistutils        xml\n",
      "bz2                 mailcap             site                xmlrpc\n",
      "cProfile            markupsafe          six                 xmltodict\n",
      "cached_property     marshal             skimage             xxsubtype\n",
      "calendar            math                sklearn             yaml\n",
      "certifi             matplotlib          sklearnex           yapf\n",
      "cffi                matplotlib_inline   slugify             yapftests\n",
      "cgi                 mccabe              smtpd               zict\n",
      "cgitb               menuinst            smtplib             zipapp\n",
      "chardet             mimetypes           sndhdr              zipfile\n",
      "charset_normalizer  mistune             sniffio             zipimport\n",
      "chunk               mkl                 snowballstemmer     zipp\n",
      "click               mkl_fft             socket              zlib\n",
      "cloudpickle         mkl_random          socketserver        zmq\n",
      "clyent              mmap                socks               zoneinfo\n",
      "cmath               mmapfile            sockshandler        zope\n",
      "cmd                 mmsystem            sortedcollections   \n",
      "coba_fungsi         mock                sortedcontainers    \n",
      "\n",
      "Enter any module name to get more help.  Or, type \"modules spam\" to search\n",
      "for modules whose name or summary contain the string \"spam\".\n",
      "\n"
     ]
    }
   ],
   "source": [
    "help('modules')"
   ]
  },
  {
   "cell_type": "markdown",
   "id": "3ae90784",
   "metadata": {},
   "source": [
    "### OS"
   ]
  },
  {
   "cell_type": "code",
   "execution_count": 7,
   "id": "6648a11d",
   "metadata": {},
   "outputs": [],
   "source": [
    "import os"
   ]
  },
  {
   "cell_type": "code",
   "execution_count": 8,
   "id": "13abe47b",
   "metadata": {},
   "outputs": [
    {
     "name": "stdout",
     "output_type": "stream",
     "text": [
      "Number of CPU  12\n"
     ]
    }
   ],
   "source": [
    "print(\"Number of CPU \", os.cpu_count())"
   ]
  },
  {
   "cell_type": "code",
   "execution_count": 9,
   "id": "15008160",
   "metadata": {},
   "outputs": [
    {
     "data": {
      "text/plain": [
       "'C:\\\\Users\\\\Alien\\\\Pembelajaran'"
      ]
     },
     "execution_count": 9,
     "metadata": {},
     "output_type": "execute_result"
    }
   ],
   "source": [
    "os.getcwd()"
   ]
  },
  {
   "cell_type": "code",
   "execution_count": 11,
   "id": "79de3c73",
   "metadata": {},
   "outputs": [
    {
     "data": {
      "text/plain": [
       "True"
      ]
     },
     "execution_count": 11,
     "metadata": {},
     "output_type": "execute_result"
    }
   ],
   "source": [
    "os.path.isdir('Tes')"
   ]
  },
  {
   "cell_type": "code",
   "execution_count": 14,
   "id": "355ef46a",
   "metadata": {},
   "outputs": [
    {
     "data": {
      "text/plain": [
       "True"
      ]
     },
     "execution_count": 14,
     "metadata": {},
     "output_type": "execute_result"
    }
   ],
   "source": [
    "os.path.isdir('Belajar')"
   ]
  },
  {
   "cell_type": "code",
   "execution_count": 13,
   "id": "5c265b89",
   "metadata": {},
   "outputs": [],
   "source": [
    "os.mkdir(\"Belajar\")"
   ]
  },
  {
   "cell_type": "markdown",
   "id": "3a0ea3d6",
   "metadata": {},
   "source": [
    "### Time"
   ]
  },
  {
   "cell_type": "code",
   "execution_count": 15,
   "id": "34f6f356",
   "metadata": {},
   "outputs": [],
   "source": [
    "import time"
   ]
  },
  {
   "cell_type": "code",
   "execution_count": 16,
   "id": "ccf836e4",
   "metadata": {},
   "outputs": [
    {
     "name": "stdout",
     "output_type": "stream",
     "text": [
      "Local time:  Mon Mar  7 14:00:53 2022\n"
     ]
    }
   ],
   "source": [
    "print(\"Local time: \", time.ctime())"
   ]
  },
  {
   "cell_type": "code",
   "execution_count": 21,
   "id": "b96557bd",
   "metadata": {},
   "outputs": [
    {
     "name": "stdout",
     "output_type": "stream",
     "text": [
      "A\n",
      "A after 1 second\n"
     ]
    }
   ],
   "source": [
    "print(\"A\")\n",
    "time.sleep(1.5)\n",
    "print(\"A after 1 second\")"
   ]
  },
  {
   "cell_type": "code",
   "execution_count": 20,
   "id": "5e37328e",
   "metadata": {},
   "outputs": [
    {
     "name": "stdout",
     "output_type": "stream",
     "text": [
      "A\n",
      "A after 1 second\n"
     ]
    }
   ],
   "source": [
    "print(\"A\")\n",
    "#time.sleep(1.5)\n",
    "print(\"A after 1 second\")"
   ]
  },
  {
   "cell_type": "markdown",
   "id": "1d105ab5",
   "metadata": {},
   "source": [
    "### Math"
   ]
  },
  {
   "cell_type": "code",
   "execution_count": 22,
   "id": "0e68dc91",
   "metadata": {},
   "outputs": [],
   "source": [
    "import math"
   ]
  },
  {
   "cell_type": "code",
   "execution_count": 23,
   "id": "a3da8e2a",
   "metadata": {},
   "outputs": [
    {
     "data": {
      "text/plain": [
       "3.141592653589793"
      ]
     },
     "execution_count": 23,
     "metadata": {},
     "output_type": "execute_result"
    }
   ],
   "source": [
    "math.pi"
   ]
  },
  {
   "cell_type": "code",
   "execution_count": 24,
   "id": "52e034c4",
   "metadata": {},
   "outputs": [
    {
     "data": {
      "text/plain": [
       "120"
      ]
     },
     "execution_count": 24,
     "metadata": {},
     "output_type": "execute_result"
    }
   ],
   "source": [
    "a = 5\n",
    "math.factorial(a)"
   ]
  },
  {
   "cell_type": "code",
   "execution_count": 25,
   "id": "ad680a11",
   "metadata": {},
   "outputs": [
    {
     "data": {
      "text/plain": [
       "3"
      ]
     },
     "execution_count": 25,
     "metadata": {},
     "output_type": "execute_result"
    }
   ],
   "source": [
    "a = 2.5\n",
    "math.ceil(a)"
   ]
  },
  {
   "cell_type": "code",
   "execution_count": 26,
   "id": "7b8ee686",
   "metadata": {},
   "outputs": [
    {
     "data": {
      "text/plain": [
       "2"
      ]
     },
     "execution_count": 26,
     "metadata": {},
     "output_type": "execute_result"
    }
   ],
   "source": [
    "math.floor(a)"
   ]
  },
  {
   "cell_type": "code",
   "execution_count": 28,
   "id": "8890d241",
   "metadata": {},
   "outputs": [
    {
     "name": "stdout",
     "output_type": "stream",
     "text": [
      "^C\n",
      "Note: you may need to restart the kernel to use updated packages.\n"
     ]
    }
   ],
   "source": [
    "pip install tensorflow-gpu"
   ]
  },
  {
   "cell_type": "code",
   "execution_count": null,
   "id": "093aa0a0",
   "metadata": {},
   "outputs": [],
   "source": []
  }
 ],
 "metadata": {
  "kernelspec": {
   "display_name": "Python 3 (ipykernel)",
   "language": "python",
   "name": "python3"
  },
  "language_info": {
   "codemirror_mode": {
    "name": "ipython",
    "version": 3
   },
   "file_extension": ".py",
   "mimetype": "text/x-python",
   "name": "python",
   "nbconvert_exporter": "python",
   "pygments_lexer": "ipython3",
   "version": "3.9.7"
  }
 },
 "nbformat": 4,
 "nbformat_minor": 5
}
