{
 "cells": [
  {
   "cell_type": "markdown",
   "metadata": {
    "id": "ee7rUDWDZ8ye",
    "slideshow": {
     "slide_type": "slide"
    }
   },
   "source": [
    "# Module 4\n",
    "## Section: Logistic Regression"
   ]
  },
  {
   "cell_type": "markdown",
   "metadata": {
    "id": "7xx5S0tDZ8yi"
   },
   "source": [
    "## Lab 1: Introduction to Logistic Regression"
   ]
  },
  {
   "cell_type": "markdown",
   "metadata": {
    "id": "ctQs_w2SZ8yi"
   },
   "source": [
    "<br><br><br><br>\n",
    "\n",
    "## Objective\n",
    "\n",
    "- Can a Linear Regression model be used to solve a classification problem?\n",
    "- What is a Decision Boundary?\n",
    "- Sigmoid Function\n",
    "    - Intuition\n",
    "    - Simple Modifications\n",
    "    - Interpretation\n",
    "- Decision Boundary Intuition with Examples\n",
    "- Enter Logistic Regression"
   ]
  },
  {
   "cell_type": "code",
   "execution_count": 1,
   "metadata": {
    "id": "1R0BawpRZ8yj"
   },
   "outputs": [],
   "source": [
    "# Importing Libraries\n",
    "import numpy as np\n",
    "import matplotlib.pyplot as plt\n",
    "# import seaborn as sns\n",
    "import pandas as pd\n",
    "from sklearn.model_selection import train_test_split\n",
    "%matplotlib inline\n",
    "from sklearn.datasets import make_classification"
   ]
  },
  {
   "cell_type": "code",
   "execution_count": 2,
   "metadata": {
    "id": "rK-0p9mHaUdp"
   },
   "outputs": [],
   "source": [
    "X, y = make_classification(n_samples=20, n_features=1, n_informative=1, n_redundant=0 , n_clusters_per_class=1, flip_y=0, random_state=7)"
   ]
  },
  {
   "cell_type": "code",
   "execution_count": 4,
   "metadata": {
    "colab": {
     "base_uri": "https://localhost:8080/"
    },
    "executionInfo": {
     "elapsed": 16,
     "status": "ok",
     "timestamp": 1647402111774,
     "user": {
      "displayName": "Bella Septina",
      "photoUrl": "https://lh3.googleusercontent.com/a-/AOh14GjZjp5Q0kibUeCIPPUByeOVc67bBsPqfd0ctaLtmQ=s64",
      "userId": "14502092440570488752"
     },
     "user_tz": -420
    },
    "id": "qMI4YgkpZ7Bp",
    "outputId": "c89aeade-b379-48de-b432-066042877681"
   },
   "outputs": [
    {
     "data": {
      "text/plain": [
       "(array([[ 1.19174704],\n",
       "        [-0.16729447],\n",
       "        [ 0.79863943],\n",
       "        [-1.3812564 ],\n",
       "        [ 0.6292815 ],\n",
       "        [-1.64554159],\n",
       "        [ 1.12585829],\n",
       "        [-1.00072856],\n",
       "        [ 1.45885291],\n",
       "        [ 0.38328407],\n",
       "        [ 2.06618671],\n",
       "        [-2.43581501],\n",
       "        [ 2.11995168],\n",
       "        [ 1.17809556],\n",
       "        [ 0.59312599],\n",
       "        [-0.66654705],\n",
       "        [-0.97314468],\n",
       "        [ 0.9091134 ],\n",
       "        [-0.50863804],\n",
       "        [-0.99830983]]),\n",
       " array([1, 0, 1, 0, 1, 0, 1, 0, 1, 0, 1, 0, 1, 1, 1, 0, 0, 1, 0, 0]))"
      ]
     },
     "execution_count": 4,
     "metadata": {},
     "output_type": "execute_result"
    }
   ],
   "source": [
    "X, y"
   ]
  },
  {
   "cell_type": "code",
   "execution_count": 5,
   "metadata": {
    "colab": {
     "base_uri": "https://localhost:8080/",
     "height": 388
    },
    "executionInfo": {
     "elapsed": 406,
     "status": "ok",
     "timestamp": 1647402131711,
     "user": {
      "displayName": "Bella Septina",
      "photoUrl": "https://lh3.googleusercontent.com/a-/AOh14GjZjp5Q0kibUeCIPPUByeOVc67bBsPqfd0ctaLtmQ=s64",
      "userId": "14502092440570488752"
     },
     "user_tz": -420
    },
    "id": "63z5_v9pZ8yk",
    "outputId": "1f36bae2-5cc3-4725-95a2-e5c3bb339384",
    "scrolled": false
   },
   "outputs": [
    {
     "data": {
      "image/png": "[encoded data removed]",
      "text/plain": [
       "<Figure size 720x432 with 1 Axes>"
      ]
     },
     "metadata": {
      "needs_background": "light"
     },
     "output_type": "display_data"
    }
   ],
   "source": [
    "# Plotting \n",
    "plt.figure(figsize=(10,6))\n",
    "plt.scatter(X, y, c='r', marker='x')\n",
    "plt.ylabel(\"Malignant Tumor {1: Yes  0: No}\")\n",
    "plt.xlabel(\"Tumor Size\")\n",
    "plt.show()"
   ]
  },
  {
   "cell_type": "markdown",
   "metadata": {
    "id": "Xlxb7Ua9Z8yl"
   },
   "source": [
    "<br><br><br><br>\n",
    "### What type of Problem is this? \n",
    "***\n",
    " - The output, \"y\" has two **categories** i.e. 1 (Yes) or 0 (No) | Klasifikasi Biner\n",
    " \n",
    " - Thus, as we have learnt before, this is a **Classification Problem** where we are using our dependent variables, in this case Tumor Size, and are getting a **binary** output, 1 (Yes) or 0 (No)! \n",
    " \n",
    " - Let's approach this problem with what we've learnt so far"
   ]
  },
  {
   "cell_type": "markdown",
   "metadata": {
    "id": "CZKwQ0cDZ8yl"
   },
   "source": [
    "<br><br><br><br>\n",
    "### The Problem Explained\n",
    "***\n",
    " - We have a dataset which has details about the loan approval.\n",
    " - Through the dataset, we basically want to find out that using different characteristics, do loans get approved {1: Yes} or not {0: No}\n",
    " - This is, in essence, nothing but a classification problem. \n",
    " \n",
    " - We wanted to check, before applying, whether our request would be approved after we fit the **right model** on the data! \n",
    " - But before we do that, let's build our intution on the '*model building*' part using the Tumor data! You will see how comprehensive this approach is"
   ]
  },
  {
   "cell_type": "markdown",
   "metadata": {
    "id": "mcaJkSX5Z8ym"
   },
   "source": [
    "<br><br><br><br>\n",
    "## Can Linear Regression be used to solve a classification problem?\n",
    "***\n",
    "\n",
    "* Lets try and apply the same Linear Regression model we learned to solve the problem of classification on a dataset."
   ]
  },
  {
   "cell_type": "code",
   "execution_count": 6,
   "metadata": {
    "colab": {
     "base_uri": "https://localhost:8080/"
    },
    "executionInfo": {
     "elapsed": 408,
     "status": "ok",
     "timestamp": 1647402194135,
     "user": {
      "displayName": "Bella Septina",
      "photoUrl": "https://lh3.googleusercontent.com/a-/AOh14GjZjp5Q0kibUeCIPPUByeOVc67bBsPqfd0ctaLtmQ=s64",
      "userId": "14502092440570488752"
     },
     "user_tz": -420
    },
    "id": "snS-TsgfZ8ym",
    "outputId": "24bfe3a3-07e0-4371-85d7-fc3f83c93c33"
   },
   "outputs": [
    {
     "data": {
      "text/plain": [
       "LinearRegression()"
      ]
     },
     "execution_count": 6,
     "metadata": {},
     "output_type": "execute_result"
    }
   ],
   "source": [
    "from sklearn.linear_model import LinearRegression\n",
    "lm = LinearRegression()\n",
    "lm.fit(X, y)"
   ]
  },
  {
   "cell_type": "code",
   "execution_count": 7,
   "metadata": {
    "colab": {
     "base_uri": "https://localhost:8080/"
    },
    "executionInfo": {
     "elapsed": 372,
     "status": "ok",
     "timestamp": 1647402198183,
     "user": {
      "displayName": "Bella Septina",
      "photoUrl": "https://lh3.googleusercontent.com/a-/AOh14GjZjp5Q0kibUeCIPPUByeOVc67bBsPqfd0ctaLtmQ=s64",
      "userId": "14502092440570488752"
     },
     "user_tz": -420
    },
    "id": "016mpiKHZ8yn",
    "outputId": "21c3a48f-80b2-46bf-fa14-029ca9fb2399",
    "scrolled": true
   },
   "outputs": [
    {
     "data": {
      "text/plain": [
       "array([-2.        , -1.995996  , -1.99199199, -1.98798799, -1.98398398,\n",
       "       -1.97997998, -1.97597598, -1.97197197, -1.96796797, -1.96396396,\n",
       "       -1.95995996, -1.95595596, -1.95195195, -1.94794795, -1.94394394,\n",
       "       -1.93993994, -1.93593594, -1.93193193, -1.92792793, -1.92392392,\n",
       "       -1.91991992, -1.91591592, -1.91191191, -1.90790791, -1.9039039 ,\n",
       "       -1.8998999 , -1.8958959 , -1.89189189, -1.88788789, -1.88388388,\n",
       "       -1.87987988, -1.87587588, -1.87187187, -1.86786787, -1.86386386,\n",
       "       -1.85985986, -1.85585586, -1.85185185, -1.84784785, -1.84384384,\n",
       "       -1.83983984, -1.83583584, -1.83183183, -1.82782783, -1.82382382,\n",
       "       -1.81981982, -1.81581582, -1.81181181, -1.80780781, -1.8038038 ,\n",
       "       -1.7997998 , -1.7957958 , -1.79179179, -1.78778779, -1.78378378,\n",
       "       -1.77977978, -1.77577578, -1.77177177, -1.76776777, -1.76376376,\n",
       "       -1.75975976, -1.75575576, -1.75175175, -1.74774775, -1.74374374,\n",
       "       -1.73973974, -1.73573574, -1.73173173, -1.72772773, -1.72372372,\n",
       "       -1.71971972, -1.71571572, -1.71171171, -1.70770771, -1.7037037 ,\n",
       "       -1.6996997 , -1.6956957 , -1.69169169, -1.68768769, -1.68368368,\n",
       "       -1.67967968, -1.67567568, -1.67167167, -1.66766767, -1.66366366,\n",
       "       -1.65965966, -1.65565566, -1.65165165, -1.64764765, -1.64364364,\n",
       "       -1.63963964, -1.63563564, -1.63163163, -1.62762763, -1.62362362,\n",
       "       -1.61961962, -1.61561562, -1.61161161, -1.60760761, -1.6036036 ,\n",
       "       -1.5995996 , -1.5955956 , -1.59159159, -1.58758759, -1.58358358,\n",
       "       -1.57957958, -1.57557558, -1.57157157, -1.56756757, -1.56356356,\n",
       "       -1.55955956, -1.55555556, -1.55155155, -1.54754755, -1.54354354,\n",
       "       -1.53953954, -1.53553554, -1.53153153, -1.52752753, -1.52352352,\n",
       "       -1.51951952, -1.51551552, -1.51151151, -1.50750751, -1.5035035 ,\n",
       "       -1.4994995 , -1.4954955 , -1.49149149, -1.48748749, -1.48348348,\n",
       "       -1.47947948, -1.47547548, -1.47147147, -1.46746747, -1.46346346,\n",
       "       -1.45945946, -1.45545546, -1.45145145, -1.44744745, -1.44344344,\n",
       "       -1.43943944, -1.43543544, -1.43143143, -1.42742743, -1.42342342,\n",
       "       -1.41941942, -1.41541542, -1.41141141, -1.40740741, -1.4034034 ,\n",
       "       -1.3993994 , -1.3953954 , -1.39139139, -1.38738739, -1.38338338,\n",
       "       -1.37937938, -1.37537538, -1.37137137, -1.36736737, -1.36336336,\n",
       "       -1.35935936, -1.35535536, -1.35135135, -1.34734735, -1.34334334,\n",
       "       -1.33933934, -1.33533534, -1.33133133, -1.32732733, -1.32332332,\n",
       "       -1.31931932, -1.31531532, -1.31131131, -1.30730731, -1.3033033 ,\n",
       "       -1.2992993 , -1.2952953 , -1.29129129, -1.28728729, -1.28328328,\n",
       "       -1.27927928, -1.27527528, -1.27127127, -1.26726727, -1.26326326,\n",
       "       -1.25925926, -1.25525526, -1.25125125, -1.24724725, -1.24324324,\n",
       "       -1.23923924, -1.23523524, -1.23123123, -1.22722723, -1.22322322,\n",
       "       -1.21921922, -1.21521522, -1.21121121, -1.20720721, -1.2032032 ,\n",
       "       -1.1991992 , -1.1951952 , -1.19119119, -1.18718719, -1.18318318,\n",
       "       -1.17917918, -1.17517518, -1.17117117, -1.16716717, -1.16316316,\n",
       "       -1.15915916, -1.15515516, -1.15115115, -1.14714715, -1.14314314,\n",
       "       -1.13913914, -1.13513514, -1.13113113, -1.12712713, -1.12312312,\n",
       "       -1.11911912, -1.11511512, -1.11111111, -1.10710711, -1.1031031 ,\n",
       "       -1.0990991 , -1.0950951 , -1.09109109, -1.08708709, -1.08308308,\n",
       "       -1.07907908, -1.07507508, -1.07107107, -1.06706707, -1.06306306,\n",
       "       -1.05905906, -1.05505506, -1.05105105, -1.04704705, -1.04304304,\n",
       "       -1.03903904, -1.03503504, -1.03103103, -1.02702703, -1.02302302,\n",
       "       -1.01901902, -1.01501502, -1.01101101, -1.00700701, -1.003003  ,\n",
       "       -0.998999  , -0.99499499, -0.99099099, -0.98698699, -0.98298298,\n",
       "       -0.97897898, -0.97497497, -0.97097097, -0.96696697, -0.96296296,\n",
       "       -0.95895896, -0.95495495, -0.95095095, -0.94694695, -0.94294294,\n",
       "       -0.93893894, -0.93493493, -0.93093093, -0.92692693, -0.92292292,\n",
       "       -0.91891892, -0.91491491, -0.91091091, -0.90690691, -0.9029029 ,\n",
       "       -0.8988989 , -0.89489489, -0.89089089, -0.88688689, -0.88288288,\n",
       "       -0.87887888, -0.87487487, -0.87087087, -0.86686687, -0.86286286,\n",
       "       -0.85885886, -0.85485485, -0.85085085, -0.84684685, -0.84284284,\n",
       "       -0.83883884, -0.83483483, -0.83083083, -0.82682683, -0.82282282,\n",
       "       -0.81881882, -0.81481481, -0.81081081, -0.80680681, -0.8028028 ,\n",
       "       -0.7987988 , -0.79479479, -0.79079079, -0.78678679, -0.78278278,\n",
       "       -0.77877878, -0.77477477, -0.77077077, -0.76676677, -0.76276276,\n",
       "       -0.75875876, -0.75475475, -0.75075075, -0.74674675, -0.74274274,\n",
       "       -0.73873874, -0.73473473, -0.73073073, -0.72672673, -0.72272272,\n",
       "       -0.71871872, -0.71471471, -0.71071071, -0.70670671, -0.7027027 ,\n",
       "       -0.6986987 , -0.69469469, -0.69069069, -0.68668669, -0.68268268,\n",
       "       -0.67867868, -0.67467467, -0.67067067, -0.66666667, -0.66266266,\n",
       "       -0.65865866, -0.65465465, -0.65065065, -0.64664665, -0.64264264,\n",
       "       -0.63863864, -0.63463463, -0.63063063, -0.62662663, -0.62262262,\n",
       "       -0.61861862, -0.61461461, -0.61061061, -0.60660661, -0.6026026 ,\n",
       "       -0.5985986 , -0.59459459, -0.59059059, -0.58658659, -0.58258258,\n",
       "       -0.57857858, -0.57457457, -0.57057057, -0.56656657, -0.56256256,\n",
       "       -0.55855856, -0.55455455, -0.55055055, -0.54654655, -0.54254254,\n",
       "       -0.53853854, -0.53453453, -0.53053053, -0.52652653, -0.52252252,\n",
       "       -0.51851852, -0.51451451, -0.51051051, -0.50650651, -0.5025025 ,\n",
       "       -0.4984985 , -0.49449449, -0.49049049, -0.48648649, -0.48248248,\n",
       "       -0.47847848, -0.47447447, -0.47047047, -0.46646647, -0.46246246,\n",
       "       -0.45845846, -0.45445445, -0.45045045, -0.44644645, -0.44244244,\n",
       "       -0.43843844, -0.43443443, -0.43043043, -0.42642643, -0.42242242,\n",
       "       -0.41841842, -0.41441441, -0.41041041, -0.40640641, -0.4024024 ,\n",
       "       -0.3983984 , -0.39439439, -0.39039039, -0.38638639, -0.38238238,\n",
       "       -0.37837838, -0.37437437, -0.37037037, -0.36636637, -0.36236236,\n",
       "       -0.35835836, -0.35435435, -0.35035035, -0.34634635, -0.34234234,\n",
       "       -0.33833834, -0.33433433, -0.33033033, -0.32632633, -0.32232232,\n",
       "       -0.31831832, -0.31431431, -0.31031031, -0.30630631, -0.3023023 ,\n",
       "       -0.2982983 , -0.29429429, -0.29029029, -0.28628629, -0.28228228,\n",
       "       -0.27827828, -0.27427427, -0.27027027, -0.26626627, -0.26226226,\n",
       "       -0.25825826, -0.25425425, -0.25025025, -0.24624625, -0.24224224,\n",
       "       -0.23823824, -0.23423423, -0.23023023, -0.22622623, -0.22222222,\n",
       "       -0.21821822, -0.21421421, -0.21021021, -0.20620621, -0.2022022 ,\n",
       "       -0.1981982 , -0.19419419, -0.19019019, -0.18618619, -0.18218218,\n",
       "       -0.17817818, -0.17417417, -0.17017017, -0.16616617, -0.16216216,\n",
       "       -0.15815816, -0.15415415, -0.15015015, -0.14614615, -0.14214214,\n",
       "       -0.13813814, -0.13413413, -0.13013013, -0.12612613, -0.12212212,\n",
       "       -0.11811812, -0.11411411, -0.11011011, -0.10610611, -0.1021021 ,\n",
       "       -0.0980981 , -0.09409409, -0.09009009, -0.08608609, -0.08208208,\n",
       "       -0.07807808, -0.07407407, -0.07007007, -0.06606607, -0.06206206,\n",
       "       -0.05805806, -0.05405405, -0.05005005, -0.04604605, -0.04204204,\n",
       "       -0.03803804, -0.03403403, -0.03003003, -0.02602603, -0.02202202,\n",
       "       -0.01801802, -0.01401401, -0.01001001, -0.00600601, -0.002002  ,\n",
       "        0.002002  ,  0.00600601,  0.01001001,  0.01401401,  0.01801802,\n",
       "        0.02202202,  0.02602603,  0.03003003,  0.03403403,  0.03803804,\n",
       "        0.04204204,  0.04604605,  0.05005005,  0.05405405,  0.05805806,\n",
       "        0.06206206,  0.06606607,  0.07007007,  0.07407407,  0.07807808,\n",
       "        0.08208208,  0.08608609,  0.09009009,  0.09409409,  0.0980981 ,\n",
       "        0.1021021 ,  0.10610611,  0.11011011,  0.11411411,  0.11811812,\n",
       "        0.12212212,  0.12612613,  0.13013013,  0.13413413,  0.13813814,\n",
       "        0.14214214,  0.14614615,  0.15015015,  0.15415415,  0.15815816,\n",
       "        0.16216216,  0.16616617,  0.17017017,  0.17417417,  0.17817818,\n",
       "        0.18218218,  0.18618619,  0.19019019,  0.19419419,  0.1981982 ,\n",
       "        0.2022022 ,  0.20620621,  0.21021021,  0.21421421,  0.21821822,\n",
       "        0.22222222,  0.22622623,  0.23023023,  0.23423423,  0.23823824,\n",
       "        0.24224224,  0.24624625,  0.25025025,  0.25425425,  0.25825826,\n",
       "        0.26226226,  0.26626627,  0.27027027,  0.27427427,  0.27827828,\n",
       "        0.28228228,  0.28628629,  0.29029029,  0.29429429,  0.2982983 ,\n",
       "        0.3023023 ,  0.30630631,  0.31031031,  0.31431431,  0.31831832,\n",
       "        0.32232232,  0.32632633,  0.33033033,  0.33433433,  0.33833834,\n",
       "        0.34234234,  0.34634635,  0.35035035,  0.35435435,  0.35835836,\n",
       "        0.36236236,  0.36636637,  0.37037037,  0.37437437,  0.37837838,\n",
       "        0.38238238,  0.38638639,  0.39039039,  0.39439439,  0.3983984 ,\n",
       "        0.4024024 ,  0.40640641,  0.41041041,  0.41441441,  0.41841842,\n",
       "        0.42242242,  0.42642643,  0.43043043,  0.43443443,  0.43843844,\n",
       "        0.44244244,  0.44644645,  0.45045045,  0.45445445,  0.45845846,\n",
       "        0.46246246,  0.46646647,  0.47047047,  0.47447447,  0.47847848,\n",
       "        0.48248248,  0.48648649,  0.49049049,  0.49449449,  0.4984985 ,\n",
       "        0.5025025 ,  0.50650651,  0.51051051,  0.51451451,  0.51851852,\n",
       "        0.52252252,  0.52652653,  0.53053053,  0.53453453,  0.53853854,\n",
       "        0.54254254,  0.54654655,  0.55055055,  0.55455455,  0.55855856,\n",
       "        0.56256256,  0.56656657,  0.57057057,  0.57457457,  0.57857858,\n",
       "        0.58258258,  0.58658659,  0.59059059,  0.59459459,  0.5985986 ,\n",
       "        0.6026026 ,  0.60660661,  0.61061061,  0.61461461,  0.61861862,\n",
       "        0.62262262,  0.62662663,  0.63063063,  0.63463463,  0.63863864,\n",
       "        0.64264264,  0.64664665,  0.65065065,  0.65465465,  0.65865866,\n",
       "        0.66266266,  0.66666667,  0.67067067,  0.67467467,  0.67867868,\n",
       "        0.68268268,  0.68668669,  0.69069069,  0.69469469,  0.6986987 ,\n",
       "        0.7027027 ,  0.70670671,  0.71071071,  0.71471471,  0.71871872,\n",
       "        0.72272272,  0.72672673,  0.73073073,  0.73473473,  0.73873874,\n",
       "        0.74274274,  0.74674675,  0.75075075,  0.75475475,  0.75875876,\n",
       "        0.76276276,  0.76676677,  0.77077077,  0.77477477,  0.77877878,\n",
       "        0.78278278,  0.78678679,  0.79079079,  0.79479479,  0.7987988 ,\n",
       "        0.8028028 ,  0.80680681,  0.81081081,  0.81481481,  0.81881882,\n",
       "        0.82282282,  0.82682683,  0.83083083,  0.83483483,  0.83883884,\n",
       "        0.84284284,  0.84684685,  0.85085085,  0.85485485,  0.85885886,\n",
       "        0.86286286,  0.86686687,  0.87087087,  0.87487487,  0.87887888,\n",
       "        0.88288288,  0.88688689,  0.89089089,  0.89489489,  0.8988989 ,\n",
       "        0.9029029 ,  0.90690691,  0.91091091,  0.91491491,  0.91891892,\n",
       "        0.92292292,  0.92692693,  0.93093093,  0.93493493,  0.93893894,\n",
       "        0.94294294,  0.94694695,  0.95095095,  0.95495495,  0.95895896,\n",
       "        0.96296296,  0.96696697,  0.97097097,  0.97497497,  0.97897898,\n",
       "        0.98298298,  0.98698699,  0.99099099,  0.99499499,  0.998999  ,\n",
       "        1.003003  ,  1.00700701,  1.01101101,  1.01501502,  1.01901902,\n",
       "        1.02302302,  1.02702703,  1.03103103,  1.03503504,  1.03903904,\n",
       "        1.04304304,  1.04704705,  1.05105105,  1.05505506,  1.05905906,\n",
       "        1.06306306,  1.06706707,  1.07107107,  1.07507508,  1.07907908,\n",
       "        1.08308308,  1.08708709,  1.09109109,  1.0950951 ,  1.0990991 ,\n",
       "        1.1031031 ,  1.10710711,  1.11111111,  1.11511512,  1.11911912,\n",
       "        1.12312312,  1.12712713,  1.13113113,  1.13513514,  1.13913914,\n",
       "        1.14314314,  1.14714715,  1.15115115,  1.15515516,  1.15915916,\n",
       "        1.16316316,  1.16716717,  1.17117117,  1.17517518,  1.17917918,\n",
       "        1.18318318,  1.18718719,  1.19119119,  1.1951952 ,  1.1991992 ,\n",
       "        1.2032032 ,  1.20720721,  1.21121121,  1.21521522,  1.21921922,\n",
       "        1.22322322,  1.22722723,  1.23123123,  1.23523524,  1.23923924,\n",
       "        1.24324324,  1.24724725,  1.25125125,  1.25525526,  1.25925926,\n",
       "        1.26326326,  1.26726727,  1.27127127,  1.27527528,  1.27927928,\n",
       "        1.28328328,  1.28728729,  1.29129129,  1.2952953 ,  1.2992993 ,\n",
       "        1.3033033 ,  1.30730731,  1.31131131,  1.31531532,  1.31931932,\n",
       "        1.32332332,  1.32732733,  1.33133133,  1.33533534,  1.33933934,\n",
       "        1.34334334,  1.34734735,  1.35135135,  1.35535536,  1.35935936,\n",
       "        1.36336336,  1.36736737,  1.37137137,  1.37537538,  1.37937938,\n",
       "        1.38338338,  1.38738739,  1.39139139,  1.3953954 ,  1.3993994 ,\n",
       "        1.4034034 ,  1.40740741,  1.41141141,  1.41541542,  1.41941942,\n",
       "        1.42342342,  1.42742743,  1.43143143,  1.43543544,  1.43943944,\n",
       "        1.44344344,  1.44744745,  1.45145145,  1.45545546,  1.45945946,\n",
       "        1.46346346,  1.46746747,  1.47147147,  1.47547548,  1.47947948,\n",
       "        1.48348348,  1.48748749,  1.49149149,  1.4954955 ,  1.4994995 ,\n",
       "        1.5035035 ,  1.50750751,  1.51151151,  1.51551552,  1.51951952,\n",
       "        1.52352352,  1.52752753,  1.53153153,  1.53553554,  1.53953954,\n",
       "        1.54354354,  1.54754755,  1.55155155,  1.55555556,  1.55955956,\n",
       "        1.56356356,  1.56756757,  1.57157157,  1.57557558,  1.57957958,\n",
       "        1.58358358,  1.58758759,  1.59159159,  1.5955956 ,  1.5995996 ,\n",
       "        1.6036036 ,  1.60760761,  1.61161161,  1.61561562,  1.61961962,\n",
       "        1.62362362,  1.62762763,  1.63163163,  1.63563564,  1.63963964,\n",
       "        1.64364364,  1.64764765,  1.65165165,  1.65565566,  1.65965966,\n",
       "        1.66366366,  1.66766767,  1.67167167,  1.67567568,  1.67967968,\n",
       "        1.68368368,  1.68768769,  1.69169169,  1.6956957 ,  1.6996997 ,\n",
       "        1.7037037 ,  1.70770771,  1.71171171,  1.71571572,  1.71971972,\n",
       "        1.72372372,  1.72772773,  1.73173173,  1.73573574,  1.73973974,\n",
       "        1.74374374,  1.74774775,  1.75175175,  1.75575576,  1.75975976,\n",
       "        1.76376376,  1.76776777,  1.77177177,  1.77577578,  1.77977978,\n",
       "        1.78378378,  1.78778779,  1.79179179,  1.7957958 ,  1.7997998 ,\n",
       "        1.8038038 ,  1.80780781,  1.81181181,  1.81581582,  1.81981982,\n",
       "        1.82382382,  1.82782783,  1.83183183,  1.83583584,  1.83983984,\n",
       "        1.84384384,  1.84784785,  1.85185185,  1.85585586,  1.85985986,\n",
       "        1.86386386,  1.86786787,  1.87187187,  1.87587588,  1.87987988,\n",
       "        1.88388388,  1.88788789,  1.89189189,  1.8958959 ,  1.8998999 ,\n",
       "        1.9039039 ,  1.90790791,  1.91191191,  1.91591592,  1.91991992,\n",
       "        1.92392392,  1.92792793,  1.93193193,  1.93593594,  1.93993994,\n",
       "        1.94394394,  1.94794795,  1.95195195,  1.95595596,  1.95995996,\n",
       "        1.96396396,  1.96796797,  1.97197197,  1.97597598,  1.97997998,\n",
       "        1.98398398,  1.98798799,  1.99199199,  1.995996  ,  2.        ])"
      ]
     },
     "execution_count": 7,
     "metadata": {},
     "output_type": "execute_result"
    }
   ],
   "source": [
    "z = np.linspace(-2, 2, 1000)\n",
    "z"
   ]
  },
  {
   "cell_type": "code",
   "execution_count": 8,
   "metadata": {
    "id": "R56I6Z_HcG_p"
   },
   "outputs": [],
   "source": [
    "z = np.linspace(-2, 2, 1000)\n",
    "z_predict = lm.intercept_ + (lm.coef_ * z) # Persamaan garis, untuk bikin garis di scatterplot yang sudah dibuat di atas"
   ]
  },
  {
   "cell_type": "code",
   "execution_count": 9,
   "metadata": {
    "colab": {
     "base_uri": "https://localhost:8080/",
     "height": 390
    },
    "executionInfo": {
     "elapsed": 474,
     "status": "ok",
     "timestamp": 1647402209648,
     "user": {
      "displayName": "Bella Septina",
      "photoUrl": "https://lh3.googleusercontent.com/a-/AOh14GjZjp5Q0kibUeCIPPUByeOVc67bBsPqfd0ctaLtmQ=s64",
      "userId": "14502092440570488752"
     },
     "user_tz": -420
    },
    "id": "AqHYE3DuZ8yn",
    "outputId": "b58824b5-7f5a-4dd2-fd14-225fd77fe729",
    "scrolled": false
   },
   "outputs": [
    {
     "data": {
      "image/png": "[encoded data removed]",
      "text/plain": [
       "<Figure size 720x432 with 1 Axes>"
      ]
     },
     "metadata": {
      "needs_background": "light"
     },
     "output_type": "display_data"
    }
   ],
   "source": [
    "plt.figure(figsize=(10,6))\n",
    "plt.scatter(X, y, c='r', marker='x')\n",
    "plt.plot(z, z_predict)\n",
    "plt.ylabel(\"Presence of Cancer {1: Yes  0: No}\")\n",
    "plt.xlabel(\"Tumor Size\")\n",
    "plt.show()"
   ]
  },
  {
   "cell_type": "markdown",
   "metadata": {
    "id": "hUYi5m7bZ8yo"
   },
   "source": [
    "### Intuition behind the Decision Boundary\n",
    "***\n",
    "* We have fitted a linear regression model which is represented by the blue line\n",
    "* How do we convert a continuous output into a discrete one?\n",
    "* One way we can do is using a threshold value for the linear regression output\n",
    "\n",
    "\n",
    "* Our output is either 1 or 0, and since we can even get predicted values between 0 and 1 like 0.2, 0.6, etc. (The regression line), we need to come up with a method where our output (0.2, 0.6, etc) is **transformed** to either **0** or **1**\n",
    "\n",
    "\n",
    "* A reasonable threshold to keep for a 0-1 problem is 0.5. So, if our predicted value (y) is **greater than 0.5** then we assign a **\"1\"** to it \n",
    "* If y is **less than 0.5** then we assign a **\"0\"** to it\n"
   ]
  },
  {
   "cell_type": "markdown",
   "metadata": {
    "id": "ku16gNpPZ8yp"
   },
   "source": [
    "<br><br><br><br>\n",
    "## What is Decision Boundary?\n",
    "***\n",
    "\n",
    "* Tracing the line of y = 0.5 all the way to it's corresponding x - value (See graph below) we can get to know this \"Threshold\" value\n",
    "\n",
    "* This \"Threshold Value\" is x = __\n",
    "\n",
    "* This means that if x > _ then y > 0.5 (i.e. y = 1) \n",
    "\n",
    "* If x < _ then y < 0.5 (i.e. y = 0)\n",
    "\n",
    "* Therefore, this vertical line (x = _ ) which separates the 2 classes (y = 1 & 0) ---> **Decision Boundary**"
   ]
  },
  {
   "cell_type": "code",
   "execution_count": 10,
   "metadata": {
    "id": "WmBRY4-DZ8yq",
    "outputId": "ae0f4f0a-700d-4dec-ae9a-277983bb48e2"
   },
   "outputs": [
    {
     "data": {
      "text/plain": [
       "Text(0, 0.5, 'Target')"
      ]
     },
     "execution_count": 10,
     "metadata": {},
     "output_type": "execute_result"
    },
    {
     "data": {
      "image/png": "[encoded data removed]",
      "text/plain": [
       "<Figure size 720x432 with 1 Axes>"
      ]
     },
     "metadata": {
      "needs_background": "light"
     },
     "output_type": "display_data"
    }
   ],
   "source": [
    "x_critical = (0.5 - lm.intercept_)/ lm.coef_\n",
    "\n",
    "plt.figure(figsize=(10,6))\n",
    "plt.scatter(X, y, c='r', marker='x')\n",
    "plt.plot(z, z_predict)\n",
    "plt.axvline(x=x_critical, color='r', linestyle='--')\n",
    "plt.axhline(y=0.5, color='g', linestyle='--')\n",
    "plt.xlabel('Feature')\n",
    "plt.ylabel('Target')"
   ]
  },
  {
   "cell_type": "markdown",
   "metadata": {
    "id": "y4umfwF1Z8yq"
   },
   "source": [
    "<br><br><br><br>\n",
    "### Linear Regression - Not a Good Idea\n",
    "***\n",
    "* The problem with this approach is that Linear Regression isn't robust to outliers and it changes the fit drastically in the presence of an outlier\n",
    "\n",
    "\n",
    "* We'll add an outlier and keep the same threshold as before to see the difference."
   ]
  },
  {
   "cell_type": "code",
   "execution_count": 11,
   "metadata": {
    "id": "HRTAnbT7Z8yq",
    "scrolled": true
   },
   "outputs": [],
   "source": [
    "new_obs = 20\n",
    "X = np.vstack([X, new_obs])\n",
    "y = np.append(y, 1)\n",
    "lm = LinearRegression()\n",
    "lm.fit(X, y)\n",
    "z = np.linspace(-2, new_obs, 1000)\n",
    "z_predict = lm.intercept_ + (lm.coef_ * z)\n",
    "x_critical2 = (0.5 - lm.intercept_)/ lm.coef_"
   ]
  },
  {
   "cell_type": "code",
   "execution_count": 12,
   "metadata": {
    "colab": {
     "base_uri": "https://localhost:8080/",
     "height": 388
    },
    "executionInfo": {
     "elapsed": 1009,
     "status": "ok",
     "timestamp": 1647402271664,
     "user": {
      "displayName": "Bella Septina",
      "photoUrl": "https://lh3.googleusercontent.com/a-/AOh14GjZjp5Q0kibUeCIPPUByeOVc67bBsPqfd0ctaLtmQ=s64",
      "userId": "14502092440570488752"
     },
     "user_tz": -420
    },
    "id": "arbl75VLZ8yr",
    "outputId": "aee1e27e-b18c-480c-80f0-929f2ba289c9",
    "scrolled": false
   },
   "outputs": [
    {
     "data": {
      "image/png": "[encoded data removed]",
      "text/plain": [
       "<Figure size 720x432 with 1 Axes>"
      ]
     },
     "metadata": {
      "needs_background": "light"
     },
     "output_type": "display_data"
    }
   ],
   "source": [
    "plt.figure(figsize=(10,6))\n",
    "plt.scatter(X, y, c='r', marker='x')\n",
    "plt.plot(z, z_predict)\n",
    "# plt.axvline(x=x_critical, color='r', linestyle='--')\n",
    "plt.axvline(x=x_critical2, color='y', linestyle='--')\n",
    "plt.xlabel('Feature')\n",
    "plt.ylabel('Target')\n",
    "plt.show()"
   ]
  },
  {
   "cell_type": "markdown",
   "metadata": {
    "id": "E30eUiLNZ8yr"
   },
   "source": [
    "<br><br><br><br>\n",
    "### Linear Regression - Not a Good Idea \n",
    "***\n",
    "* We see that our Decision Boundary has shifted to the right. As a result we get some incorrect predicted \"y-values\" (the one's left of the boundary) \n",
    "\n",
    "* Since the data is labeled we know that they're originally = \"1\". But being on the left of the decision boundary indicates that they should be assigned a \"0\"\n",
    "\n",
    "* Thus Linear Regression is not suitable for classification tasks as it is highly sensitive to outliers\n",
    "\n",
    "* We clearly need a better model to solve the problem of classification"
   ]
  },
  {
   "cell_type": "markdown",
   "metadata": {
    "id": "5mkFSUVwZ8yr"
   },
   "source": [
    "<br><br><br><br><br><br><br><br>\n",
    "## Enter Logistic Regression\n",
    "***\n",
    "* To overcome the limitations of Linear Regression we'll use another model suitable for classification i.e., Logistic Regression.\n",
    "\n",
    "\n",
    "* What do we need? \n",
    "  - We need 0 <= y <= 1\n",
    "  \n",
    "* For this purpose we need to use a different function (and not the Linear Regression \"y = mx + b\")\n",
    "\n",
    "* This function is the **Sigmoid Function**\n"
   ]
  },
  {
   "cell_type": "markdown",
   "metadata": {
    "id": "MLYCJiPCZ8yr"
   },
   "source": [
    "<br><br><br><br>\n",
    "## Sigmoid function\n",
    "***\n",
    "* We need to get the values in the range of (0,1) \n",
    "\n",
    "* Let's have a look at the graph of the Sigmoid Function and then get into building the intuition\n",
    "***\n",
    "\n",
    "<center><img src=\"https://raw.githubusercontent.com/bluedataconsulting/AIMasteryProgram/main/Lab_Exercises/Module4/images/sigmoid.png\" alt=\"Oh Chris\" style=\"width: 275px;\"/></center>"
   ]
  },
  {
   "cell_type": "markdown",
   "metadata": {
    "id": "P509DHy6Z8yr"
   },
   "source": [
    "## Intuition\n",
    "***\n",
    " - The function above is $g(z) = \\frac {1} {(1 + e^(-z))}$   for values of t ranging from - infinity , + infinity\n",
    " \n",
    " - $g(z)$ is also called as \"Sigmoid of 'z' or just sig(z)\"\n",
    " \n",
    " - Again, let's start by plugging in the extremes of it's range\n",
    " \n",
    " $g(-infinity) = \\frac {1} {(1 + infinity)} = ~0$\n",
    " \n",
    " \n",
    "   $g( infinity) = \\frac {1} {(1 + ~0)} = ~1$\n",
    " \n",
    " - No matter what value \"z\" takes, we will always get an answer in the range of **[0,1]**"
   ]
  },
  {
   "cell_type": "markdown",
   "metadata": {
    "id": "SxfP6a7DZ8ys"
   },
   "source": [
    "<br><br><br><br>\n",
    "### Simple Modifications\n",
    "***\n",
    "\n",
    " - Now, instead of sig(z) let's consider sig(y) **where y ---> our response**\n",
    " \n",
    " - But as discussed before; $y = \\theta_0 + \\theta_1(x1) + \\theta_2(x_2) + .. + \\theta_n(x_n)$\n",
    " \n",
    " - Thus, $g(y) = g(h_{\\theta}(x)) = 1/(1 + e^{-(\\theta* X)})$"
   ]
  },
  {
   "cell_type": "markdown",
   "metadata": {
    "id": "Ab1d_0YDZ8ys"
   },
   "source": [
    "<br><br><br><br>\n",
    "### Interpretation - Let's put it simply\n",
    "***\n",
    "In essence: \n",
    "\n",
    " - $h_θ(x)$ is the ** Estimated Probability that y = 1 on input \"X\"** \n",
    " \n",
    " - Example: $h_θ(x)$ = 0.7 in our Tumor problem **MEANS** there is a 70% chance of Tumor being **Malignant**\n",
    " \n",
    " - Thus, mathematically, $h_θ(x)$ = P(y=1 | x; θ) means that **Probability that y = 1 given X and parameterized by θ**\n",
    " \n",
    " - Thus **P(y=1 | x;θ) + P(y=0 | x;θ) = 1**\n",
    "\n"
   ]
  },
  {
   "cell_type": "markdown",
   "metadata": {
    "id": "TdJIlPJ6Z8ys"
   },
   "source": [
    "<br><br><br><br>\n",
    "### Decision Boundary Intuition with Examples\n",
    "***\n",
    "\n",
    "We can see that g(z) >= 0.5 when z >= 0\n",
    "\n",
    "Thus $h_θ(x)$ = g(θ*X)) >= 0.5 whenever θ x $X$ >= 0\n",
    "\n",
    "<center><img src=\"https://raw.githubusercontent.com/bluedataconsulting/AIMasteryProgram/main/Lab_Exercises/Module4/images/sigmoid.png\" alt=\"Oh Chris\" style=\"width: 275px;\"/></center>"
   ]
  },
  {
   "cell_type": "markdown",
   "metadata": {
    "id": "ukTcNZygZ8ys"
   },
   "source": [
    " - Consider: $h_θ(x) = g(θ_0 + θ_1x_1 + θ_2x_2)$\n",
    "\n",
    " - The graph below shows y - values (0 when \"O\" & 1 when \"X\") given values of $x_1$& $x_2$\n",
    "***\n",
    "<center><img src=\"https://raw.githubusercontent.com/bluedataconsulting/AIMasteryProgram/main/Lab_Exercises/Module4/images/logistic_regression.png\" alt=\"Math\" style=\"width: 275px;\"/></center>"
   ]
  },
  {
   "cell_type": "code",
   "execution_count": null,
   "metadata": {
    "id": "J3wb6mEZcb3E"
   },
   "outputs": [],
   "source": []
  },
  {
   "cell_type": "markdown",
   "metadata": {
    "id": "UYWog3N0Z8ys"
   },
   "source": [
    "So, for example  $θ_0 = -3, θ_1 = 1, θ_2 = 1$\n",
    "     \n",
    "So our parameter vector is a column vector with the above values\n",
    "   - So, $θ^T$  = [-3,1,1]\n",
    "   \n",
    "Thus the z here becomes θ x $X$\n"
   ]
  },
  {
   "cell_type": "code",
   "execution_count": 14,
   "metadata": {
    "colab": {
     "base_uri": "https://localhost:8080/"
    },
    "executionInfo": {
     "elapsed": 25,
     "status": "ok",
     "timestamp": 1647402316431,
     "user": {
      "displayName": "Bella Septina",
      "photoUrl": "https://lh3.googleusercontent.com/a-/AOh14GjZjp5Q0kibUeCIPPUByeOVc67bBsPqfd0ctaLtmQ=s64",
      "userId": "14502092440570488752"
     },
     "user_tz": -420
    },
    "id": "-QimAdN0Z8ys",
    "outputId": "6e11aa31-d71b-4e0e-bff1-b90e62284dbb"
   },
   "outputs": [
    {
     "data": {
      "text/plain": [
       "LogisticRegression()"
      ]
     },
     "execution_count": 14,
     "metadata": {},
     "output_type": "execute_result"
    }
   ],
   "source": [
    "from sklearn.linear_model import LogisticRegression\n",
    "clf = LogisticRegression()\n",
    "\n",
    "X, y = make_classification(n_samples=10, n_features=1, n_informative=1, n_redundant=0 , n_clusters_per_class=1, flip_y=0, random_state=7)\n",
    "clf = LogisticRegression()\n",
    "clf.fit(X, y)"
   ]
  },
  {
   "cell_type": "code",
   "execution_count": 15,
   "metadata": {
    "colab": {
     "base_uri": "https://localhost:8080/",
     "height": 406
    },
    "executionInfo": {
     "elapsed": 368,
     "status": "ok",
     "timestamp": 1647402320285,
     "user": {
      "displayName": "Bella Septina",
      "photoUrl": "https://lh3.googleusercontent.com/a-/AOh14GjZjp5Q0kibUeCIPPUByeOVc67bBsPqfd0ctaLtmQ=s64",
      "userId": "14502092440570488752"
     },
     "user_tz": -420
    },
    "id": "khhB9KO1Z8yt",
    "outputId": "89f7923a-06ae-4a79-888d-3f0cc7ba23b8",
    "scrolled": false
   },
   "outputs": [
    {
     "data": {
      "text/plain": [
       "Text(0, 0.5, 'Target')"
      ]
     },
     "execution_count": 15,
     "metadata": {},
     "output_type": "execute_result"
    },
    {
     "data": {
      "image/png": "[encoded data removed]",
      "text/plain": [
       "<Figure size 720x432 with 1 Axes>"
      ]
     },
     "metadata": {
      "needs_background": "light"
     },
     "output_type": "display_data"
    }
   ],
   "source": [
    "plt.figure(figsize=(10,6))\n",
    "plt.scatter(X, y, c='r', marker='x')\n",
    "xt = np.linspace(-3, 3, 1000).reshape(1000,1)\n",
    "yt = clf.predict(xt)\n",
    "plt.plot(xt, yt) # membuat garis sigmoid\n",
    "plt.xlabel('Feature')\n",
    "plt.ylabel('Target')"
   ]
  },
  {
   "cell_type": "markdown",
   "metadata": {
    "id": "NL0tnuVHZ8yt"
   },
   "source": [
    "* In the case with no outliers Logistic Regression does a good job in seperating the classes\n",
    "* We'll add an outlier and check if it still manages to do the same"
   ]
  },
  {
   "cell_type": "code",
   "execution_count": 16,
   "metadata": {
    "colab": {
     "base_uri": "https://localhost:8080/"
    },
    "executionInfo": {
     "elapsed": 380,
     "status": "ok",
     "timestamp": 1647402348479,
     "user": {
      "displayName": "Bella Septina",
      "photoUrl": "https://lh3.googleusercontent.com/a-/AOh14GjZjp5Q0kibUeCIPPUByeOVc67bBsPqfd0ctaLtmQ=s64",
      "userId": "14502092440570488752"
     },
     "user_tz": -420
    },
    "id": "BEOYEawfZ8yt",
    "outputId": "97dbd6d2-d564-4e31-fd8b-22541271f851"
   },
   "outputs": [
    {
     "data": {
      "text/plain": [
       "LogisticRegression()"
      ]
     },
     "execution_count": 16,
     "metadata": {},
     "output_type": "execute_result"
    }
   ],
   "source": [
    "new_obs = 20\n",
    "X = np.vstack([X, new_obs])\n",
    "y = np.append(y, 1)\n",
    "clf.fit(X, y)"
   ]
  },
  {
   "cell_type": "code",
   "execution_count": 17,
   "metadata": {
    "colab": {
     "base_uri": "https://localhost:8080/",
     "height": 406
    },
    "executionInfo": {
     "elapsed": 1134,
     "status": "ok",
     "timestamp": 1647402354023,
     "user": {
      "displayName": "Bella Septina",
      "photoUrl": "https://lh3.googleusercontent.com/a-/AOh14GjZjp5Q0kibUeCIPPUByeOVc67bBsPqfd0ctaLtmQ=s64",
      "userId": "14502092440570488752"
     },
     "user_tz": -420
    },
    "id": "gCQT_Mu1Z8yt",
    "outputId": "bd9803b5-bcd7-43cc-93d6-0183789e0c9f"
   },
   "outputs": [
    {
     "data": {
      "text/plain": [
       "Text(0, 0.5, 'Target')"
      ]
     },
     "execution_count": 17,
     "metadata": {},
     "output_type": "execute_result"
    },
    {
     "data": {
      "image/png": "[encoded data removed]",
      "text/plain": [
       "<Figure size 720x432 with 1 Axes>"
      ]
     },
     "metadata": {
      "needs_background": "light"
     },
     "output_type": "display_data"
    }
   ],
   "source": [
    "plt.figure(figsize=(10,6))\n",
    "plt.scatter(X, y, c='r', marker='x')\n",
    "xt = np.linspace(-5, 25, 1000).reshape(1000,1)\n",
    "yt = clf.predict(xt)\n",
    "plt.plot(xt, yt)\n",
    "plt.xlabel('Feature')\n",
    "plt.ylabel('Target')"
   ]
  },
  {
   "cell_type": "code",
   "execution_count": 20,
   "metadata": {},
   "outputs": [
    {
     "data": {
      "text/plain": [
       "LogisticRegression()"
      ]
     },
     "execution_count": 20,
     "metadata": {},
     "output_type": "execute_result"
    }
   ],
   "source": [
    "new_obs = 12\n",
    "X = np.vstack([X, new_obs])\n",
    "y = np.append(y, 1)\n",
    "clf.fit(X, y)"
   ]
  },
  {
   "cell_type": "code",
   "execution_count": 21,
   "metadata": {},
   "outputs": [
    {
     "data": {
      "text/plain": [
       "Text(0, 0.5, 'Target')"
      ]
     },
     "execution_count": 21,
     "metadata": {},
     "output_type": "execute_result"
    },
    {
     "data": {
      "image/png": "[encoded data removed]",
      "text/plain": [
       "<Figure size 720x432 with 1 Axes>"
      ]
     },
     "metadata": {
      "needs_background": "light"
     },
     "output_type": "display_data"
    }
   ],
   "source": [
    "plt.figure(figsize=(10,6))\n",
    "plt.scatter(X, y, c='r', marker='x')\n",
    "xt = np.linspace(-5, 25, 1000).reshape(1000,1)\n",
    "yt = clf.predict(xt)\n",
    "plt.plot(xt, yt)\n",
    "plt.xlabel('Feature')\n",
    "plt.ylabel('Target')"
   ]
  },
  {
   "cell_type": "markdown",
   "metadata": {
    "id": "LLVgXtnJss6F"
   },
   "source": []
  },
  {
   "cell_type": "markdown",
   "metadata": {
    "id": "G583WluMZ8yt"
   },
   "source": [
    "* Even after adding outliers LR seperates the classes well.\n",
    "* Thus its much more suitable for classification.\n"
   ]
  },
  {
   "cell_type": "markdown",
   "metadata": {
    "id": "6pAbdi6_Z8yu"
   },
   "source": [
    "### Thank you!"
   ]
  }
 ],
 "metadata": {
  "anaconda-cloud": {},
  "celltoolbar": "Slideshow",
  "colab": {
   "collapsed_sections": [],
   "name": "Module4_Section2_Lab1_Logistic_Regression.ipynb",
   "provenance": []
  },
  "kernelspec": {
   "display_name": "Python 3 (ipykernel)",
   "language": "python",
   "name": "python3"
  },
  "language_info": {
   "codemirror_mode": {
    "name": "ipython",
    "version": 3
   },
   "file_extension": ".py",
   "mimetype": "text/x-python",
   "name": "python",
   "nbconvert_exporter": "python",
   "pygments_lexer": "ipython3",
   "version": "3.9.7"
  }
 },
 "nbformat": 4,
 "nbformat_minor": 1
}
