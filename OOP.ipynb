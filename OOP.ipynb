{
 "cells": [
  {
   "cell_type": "markdown",
   "metadata": {
    "id": "Le8N3SLcbiAd"
   },
   "source": [
    "# **Fungsi**"
   ]
  },
  {
   "cell_type": "code",
   "execution_count": null,
   "metadata": {
    "colab": {
     "base_uri": "https://localhost:8080/"
    },
    "id": "ywDbPVukTDYd",
    "outputId": "5d8285a9-e431-4193-9d0d-c70b32bc7379"
   },
   "outputs": [
    {
     "name": "stdout",
     "output_type": "stream",
     "text": [
      "wokee\n"
     ]
    }
   ],
   "source": [
    "# Deklarasi Fungsi\n",
    "def cetak(x):\n",
    "  print(x)\n",
    "\n",
    "# Memanggil Fungsi\n",
    "cetak(\"wokee\")"
   ]
  },
  {
   "cell_type": "code",
   "execution_count": null,
   "metadata": {
    "colab": {
     "base_uri": "https://localhost:8080/"
    },
    "id": "RipUgd0NTdjo",
    "outputId": "14063209-3c09-4552-a6f0-2e36e3a12891"
   },
   "outputs": [
    {
     "name": "stdout",
     "output_type": "stream",
     "text": [
      "5\n"
     ]
    }
   ],
   "source": [
    "# Deklarasi Fungsi dengan pengembalian\n",
    "def tambah(a, b):\n",
    "  return a + b;\n",
    "\n",
    "# Memanggil Fungsi\n",
    "print(tambah(2, 3))"
   ]
  },
  {
   "cell_type": "code",
   "execution_count": null,
   "metadata": {
    "colab": {
     "base_uri": "https://localhost:8080/",
     "height": 129
    },
    "id": "9r0oXaTxVRvi",
    "outputId": "c80a5ce6-12d1-42e6-e35b-7d986eeb2d31"
   },
   "outputs": [
    {
     "ename": "SyntaxError",
     "evalue": "ignored",
     "output_type": "error",
     "traceback": [
      "\u001b[0;36m  File \u001b[0;32m\"<ipython-input-3-ef2e3d650e13>\"\u001b[0;36m, line \u001b[0;32m1\u001b[0m\n\u001b[0;31m    def nama_fungsi(arg1, arg2, ...):\u001b[0m\n\u001b[0m                                  ^\u001b[0m\n\u001b[0;31mSyntaxError\u001b[0m\u001b[0;31m:\u001b[0m invalid syntax\n"
     ]
    }
   ],
   "source": [
    "def nama_fungsi(arg1, arg2, ...):\n",
    "  # isi fungsi\n",
    "\n",
    "def fungsi_dengan_pengembalian(arg1, arg2, ...):\n",
    "  # isi fungsi\n",
    "  return 'sesuatu'"
   ]
  },
  {
   "cell_type": "markdown",
   "metadata": {
    "id": "3WbfqdEWbtsl"
   },
   "source": [
    "# **Lambda Expression**"
   ]
  },
  {
   "cell_type": "code",
   "execution_count": null,
   "metadata": {
    "colab": {
     "base_uri": "https://localhost:8080/"
    },
    "id": "wmZuN2s7ZzAZ",
    "outputId": "98cd1563-3516-4839-f532-baa60dbe6272"
   },
   "outputs": [
    {
     "name": "stdout",
     "output_type": "stream",
     "text": [
      "5\n"
     ]
    }
   ],
   "source": [
    "# Lambda expression\n",
    "tambah = lambda a, b: (a + b)\n",
    "print(tambah(2, 3))"
   ]
  },
  {
   "cell_type": "markdown",
   "metadata": {
    "id": "EsIHPIFUasQx"
   },
   "source": [
    "# **Error Handling**"
   ]
  },
  {
   "cell_type": "code",
   "execution_count": null,
   "metadata": {
    "colab": {
     "base_uri": "https://localhost:8080/"
    },
    "id": "0kucfUh7bNWh",
    "outputId": "abb2a975-b670-498c-ca65-2248332ba277"
   },
   "outputs": [
    {
     "name": "stdout",
     "output_type": "stream",
     "text": [
      "divided by zero\n",
      "executed when exception occurs\n",
      "finally block, always executed\n"
     ]
    }
   ],
   "source": [
    "try:\n",
    "    x = 1 / 0\n",
    "except ZeroDivisionError:\n",
    "    print('divided by zero')\n",
    "    print('executed when exception occurs')\n",
    "else:\n",
    "    print('executed only when exception does not occur')\n",
    "finally:\n",
    "    print('finally block, always executed')"
   ]
  },
  {
   "cell_type": "code",
   "execution_count": null,
   "metadata": {
    "colab": {
     "base_uri": "https://localhost:8080/"
    },
    "id": "u5Sc_MHZbX22",
    "outputId": "eea1f254-7e4c-441b-8799-ac17495a9520"
   },
   "outputs": [
    {
     "name": "stdout",
     "output_type": "stream",
     "text": [
      "Key Tidak Ditemukan\n",
      "finally block, always executed\n"
     ]
    }
   ],
   "source": [
    "orang = {'nama':'budi', 'umur':20}\n",
    "\n",
    "try:\n",
    "    print(orang['no_hp'])\n",
    "except LookupError:\n",
    "    print('Key Tidak Ditemukan')\n",
    "else:\n",
    "    print('executed only when exception does not occur')\n",
    "finally:\n",
    "    print('finally block, always executed')"
   ]
  },
  {
   "cell_type": "code",
   "execution_count": null,
   "metadata": {
    "id": "RcNCmIccbwcL"
   },
   "outputs": [],
   "source": [
    "orang = {'nama':'budi', 'umur':20}\n",
    "\n",
    "try:\n",
    "    x=1/0\n",
    "except LookupError:\n",
    "    print('Key Tidak Ditemukan')\n",
    "else:\n",
    "    print('executed only when exception does not occur')\n",
    "finally:\n",
    "    print('finally block, always executed')"
   ]
  },
  {
   "cell_type": "markdown",
   "metadata": {
    "id": "jxicmjLxkXCa"
   },
   "source": [
    "# **Object Oriented Programming**"
   ]
  },
  {
   "cell_type": "markdown",
   "metadata": {},
   "source": [
    "# Class"
   ]
  },
  {
   "cell_type": "code",
   "execution_count": null,
   "metadata": {
    "id": "P_Z6c_AYWi71"
   },
   "outputs": [],
   "source": [
    "class NamaClass:\n",
    "  def nama_method(arg1, arg2, ...):\n",
    "    # isi method"
   ]
  },
  {
   "cell_type": "markdown",
   "metadata": {
    "id": "SLOP8yGkbpLO"
   },
   "source": [
    "# **Method**"
   ]
  },
  {
   "cell_type": "code",
   "execution_count": 2,
   "metadata": {
    "colab": {
     "base_uri": "https://localhost:8080/"
    },
    "id": "uh927B9_W0N1",
    "outputId": "45144c9f-46e9-4d05-c74b-c7eceb5e820e"
   },
   "outputs": [
    {
     "name": "stdout",
     "output_type": "stream",
     "text": [
      "meeooong\n"
     ]
    }
   ],
   "source": [
    "# Deklarasi Object (Class)\n",
    "\n",
    "class Kucing(object):\n",
    "    #method\n",
    "    def meong(self):\n",
    "        print(\"meeooong\")\n",
    "\n",
    "# Memanggil method\n",
    "cat1 = Kucing()\n",
    "cat1.meong()"
   ]
  },
  {
   "cell_type": "markdown",
   "metadata": {
    "id": "K_u-Dtb6kcBm"
   },
   "source": [
    "## **Encapsulation**"
   ]
  },
  {
   "cell_type": "code",
   "execution_count": 1,
   "metadata": {
    "colab": {
     "base_uri": "https://localhost:8080/"
    },
    "id": "9-CEKFKYm2AA",
    "outputId": "2de8dfb7-1355-4bff-8fea-eeed46562f8a"
   },
   "outputs": [
    {
     "name": "stdout",
     "output_type": "stream",
     "text": [
      "nama: cemong, usia: 1, warna: putih coklat muda, jenis: anggora\n",
      "meeeoonnggg... \n"
     ]
    }
   ],
   "source": [
    "nama = \"cemong\"\n",
    "usia = 1\n",
    "warna = \"putih coklat muda\"\n",
    "jenis = \"anggora\"\n",
    "\n",
    "def meongg():\n",
    "  print(\"meeeoonnggg... \")\n",
    "\n",
    "def info_kucing(nama, usia, warna, jenis):\n",
    "  print(f\"nama: {nama}, usia: {usia}, warna: {warna}, jenis: {jenis}\") \n",
    "\n",
    "info_kucing(nama, usia, warna, jenis)\n",
    "meongg()"
   ]
  },
  {
   "cell_type": "code",
   "execution_count": 15,
   "metadata": {
    "colab": {
     "base_uri": "https://localhost:8080/"
    },
    "id": "9-CEKFKYm2AA",
    "outputId": "2de8dfb7-1355-4bff-8fea-eeed46562f8a"
   },
   "outputs": [
    {
     "name": "stdout",
     "output_type": "stream",
     "text": [
      "nama: cemong, usia: 1, warna: putih coklat muda, jenis: anggora\n",
      "meeeoonnggg...  cemong\n"
     ]
    }
   ],
   "source": [
    "class Kucing(object):  \n",
    "    nama_kucing = \"\"\n",
    "    def __init__(selfie, input_nama, input_usia, input_warna, input_jenis):\n",
    "        selfie.nama = input_nama\n",
    "        selfie.usia = input_usia\n",
    "        selfie.warna = input_warna\n",
    "        selfie.jenis = input_jenis\n",
    "        Kucing.nama_kucing = input_nama\n",
    "\n",
    "    def meong(selfie):\n",
    "        print(\"meeeoonnggg... \", selfie.nama)\n",
    "\n",
    "    def info(selfie):\n",
    "        print(f\"nama: {selfie.nama}, usia: {selfie.usia}, warna: {selfie.warna}, jenis: {selfie.jenis}\")\n",
    "\n",
    "\n",
    "kucing1 = Kucing(\"cemong\", 1, \"putih coklat muda\", \"anggora\")\n",
    "\n",
    "kucing1.info()\n",
    "kucing1.meong()"
   ]
  },
  {
   "cell_type": "code",
   "execution_count": 16,
   "metadata": {},
   "outputs": [
    {
     "data": {
      "text/plain": [
       "'cemong'"
      ]
     },
     "execution_count": 16,
     "metadata": {},
     "output_type": "execute_result"
    }
   ],
   "source": [
    "kucing1.nama"
   ]
  },
  {
   "cell_type": "code",
   "execution_count": 17,
   "metadata": {},
   "outputs": [],
   "source": [
    "kucing1.nama = \"Ceming\""
   ]
  },
  {
   "cell_type": "code",
   "execution_count": 18,
   "metadata": {},
   "outputs": [
    {
     "data": {
      "text/plain": [
       "'Ceming'"
      ]
     },
     "execution_count": 18,
     "metadata": {},
     "output_type": "execute_result"
    }
   ],
   "source": [
    "kucing1.nama"
   ]
  },
  {
   "cell_type": "code",
   "execution_count": 29,
   "metadata": {},
   "outputs": [
    {
     "data": {
      "text/plain": [
       "'putih coklat muda'"
      ]
     },
     "execution_count": 29,
     "metadata": {},
     "output_type": "execute_result"
    }
   ],
   "source": [
    "kucing1.warna"
   ]
  },
  {
   "cell_type": "markdown",
   "metadata": {},
   "source": [
    "### Setter and Getter"
   ]
  },
  {
   "cell_type": "code",
   "execution_count": 62,
   "metadata": {},
   "outputs": [],
   "source": [
    "class Kucing2(object):  \n",
    "    nama_kucing = \"\"\n",
    "    def __init__(self, nama, usia, warna, jenis):\n",
    "        self.nama = nama\n",
    "        self.__usia = usia\n",
    "        self.warna = warna\n",
    "        self.jenis = jenis\n",
    "        Kucing.__nama_kucing = nama\n",
    "\n",
    "    def meong(self):\n",
    "        print(\"meeeoonnggg... \", self.nama)\n",
    "\n",
    "    def get_info(self):\n",
    "        print(f\"nama: {self.__nama}, usia: {self.__usia}, warna: {self.__warna}, jenis: {self.__jenis}\")\n",
    "    \n",
    "    def get_nama(self):\n",
    "        return self.__nama\n",
    "    \n",
    "    def get_usia(self):\n",
    "        return self.__usia\n",
    "        "
   ]
  },
  {
   "cell_type": "code",
   "execution_count": 63,
   "metadata": {},
   "outputs": [],
   "source": [
    "kucing2 = Kucing2('abc', 1, 'putih', 'persia')"
   ]
  },
  {
   "cell_type": "code",
   "execution_count": 64,
   "metadata": {},
   "outputs": [
    {
     "name": "stdout",
     "output_type": "stream",
     "text": [
      "meeeoonnggg...  abc\n"
     ]
    }
   ],
   "source": [
    "kucing2.meong()"
   ]
  },
  {
   "cell_type": "code",
   "execution_count": 28,
   "metadata": {},
   "outputs": [
    {
     "name": "stdout",
     "output_type": "stream",
     "text": [
      "nama: abc, usia: 1, warna: putih, jenis: persia\n"
     ]
    }
   ],
   "source": [
    "kucing2.get_info()"
   ]
  },
  {
   "cell_type": "code",
   "execution_count": 25,
   "metadata": {},
   "outputs": [
    {
     "data": {
      "text/plain": [
       "'abc'"
      ]
     },
     "execution_count": 25,
     "metadata": {},
     "output_type": "execute_result"
    }
   ],
   "source": [
    "kucing2.get_nama()"
   ]
  },
  {
   "cell_type": "code",
   "execution_count": 29,
   "metadata": {},
   "outputs": [
    {
     "data": {
      "text/plain": [
       "1"
      ]
     },
     "execution_count": 29,
     "metadata": {},
     "output_type": "execute_result"
    }
   ],
   "source": [
    "kucing2.get_usia()"
   ]
  },
  {
   "cell_type": "markdown",
   "metadata": {
    "id": "wBoEkCxewdrg"
   },
   "source": [
    "## **Inheritence**"
   ]
  },
  {
   "cell_type": "code",
   "execution_count": 78,
   "metadata": {
    "colab": {
     "base_uri": "https://localhost:8080/"
    },
    "id": "HsVgKNgowiRP",
    "outputId": "a8143bcf-8d90-4e68-ceb9-4c08d162fcfb"
   },
   "outputs": [
    {
     "name": "stdout",
     "output_type": "stream",
     "text": [
      "ddrrr... ddrrr... \n",
      "ddrrr... ddrrr... \n",
      "nama: cemong, usia: 1, jenis: omnivora, mamalia: True\n"
     ]
    }
   ],
   "source": [
    "class Binatang(object):\n",
    "    def __init__(self, nama, usia, jenis, mamalia):\n",
    "        self.nama = nama\n",
    "        self.usia = usia\n",
    "        self.jenis = jenis\n",
    "        self.mamalia = mamalia\n",
    "\n",
    "    def __tidur(self, durasi):\n",
    "        for x in range(durasi):\n",
    "            print(\"ddrrr... ddrrr... \")\n",
    "\n",
    "    def info(self):\n",
    "        self.__tidur(2)\n",
    "        print(f\"nama: {self.nama}, usia: {self.usia}, jenis: {self.jenis}, mamalia: {self.mamalia}\")\n",
    "\n",
    "animal1 = Binatang(\"cemong\", 1, \"omnivora\", True)\n",
    "\n",
    "animal1.info()"
   ]
  },
  {
   "cell_type": "code",
   "execution_count": 77,
   "metadata": {
    "colab": {
     "base_uri": "https://localhost:8080/"
    },
    "id": "HsVgKNgowiRP",
    "outputId": "a8143bcf-8d90-4e68-ceb9-4c08d162fcfb"
   },
   "outputs": [
    {
     "name": "stdout",
     "output_type": "stream",
     "text": [
      "ddrrr... ddrrr... \n",
      "ddrrr... ddrrr... \n",
      "nama: baim, usia: 2, jenis: carnivora, mamalia: False\n",
      "warna: putih coklat muda, jenis kucing: anggora\n",
      "ddrrr... ddrrr... \n",
      "ddrrr... ddrrr... \n",
      "meeeonnggg\n"
     ]
    }
   ],
   "source": [
    "class Kucing(Binatang):\n",
    "    def __init__(self,  nama, usia, jenis, mamalia, warna, jenis_kucing):\n",
    "        super().__init__(nama, usia, jenis, mamalia)\n",
    "        self.warna = warna\n",
    "        self.jenis_kucing = jenis_kucing\n",
    "\n",
    "    def meong(self):\n",
    "        super()._tidur(2)\n",
    "        print(\"meeeonnggg\")\n",
    "\n",
    "    def info_kucing(self):\n",
    "        super().info()\n",
    "        print(f\"warna: {self.warna}, jenis kucing: {self.jenis_kucing}\")\n",
    "\n",
    "cat1 = Kucing(\"baim\", 2, \"carnivora\", False, \"putih coklat muda\", \"anggora\")\n",
    "\n",
    "# cat1.info()\n",
    "# cat1.tidur(5)\n",
    "cat1.info_kucing()\n",
    "cat1.meong()\n",
    "#animal1.meong()\n",
    "\n"
   ]
  },
  {
   "cell_type": "markdown",
   "metadata": {
    "id": "Xpt9Lz6vqN-z"
   },
   "source": [
    "## **Abstraction**"
   ]
  },
  {
   "cell_type": "code",
   "execution_count": 40,
   "metadata": {
    "id": "-i66C4QcPS4N"
   },
   "outputs": [],
   "source": [
    "from abc import abstractmethod, ABC"
   ]
  },
  {
   "cell_type": "code",
   "execution_count": 41,
   "metadata": {
    "colab": {
     "base_uri": "https://localhost:8080/"
    },
    "id": "fwa_TEf-v_8f",
    "outputId": "836cbcfd-c599-460c-e7a4-28b7c1e7b776"
   },
   "outputs": [
    {
     "name": "stdout",
     "output_type": "stream",
     "text": [
      "We are inside test_class task\n",
      "Passed value:  100\n",
      "a\n",
      "We are inside example_class task\n",
      "Passed value:  200\n",
      "test_obj is instance of Absclass?  True\n",
      "example_obj is instance of Absclass?  True\n"
     ]
    }
   ],
   "source": [
    "class Absclass(ABC):\n",
    "    #Method biasa\n",
    "    def cetak(self,x):\n",
    "        print(\"Passed value: \", x)\n",
    "    \n",
    "    #Abstract Method\n",
    "    @abstractmethod\n",
    "    def task(self):\n",
    "        pass\n",
    "\n",
    "        \n",
    "class test_class(Absclass):\n",
    "    def task(self):\n",
    "        print(\"We are inside test_class task\")\n",
    "\n",
    "    def cetak2(self):\n",
    "        print('a')\n",
    "        \n",
    "        \n",
    "class example_class(Absclass):\n",
    "    def task(self):\n",
    "        print(\"We are inside example_class task\")\n",
    "\n",
    "\n",
    "#object of test_class created\n",
    "test_obj = test_class()\n",
    "test_obj.task()\n",
    "test_obj.cetak(100)\n",
    "test_obj.cetak2()\n",
    "\n",
    "\n",
    "#object of example_class created\n",
    "example_obj = example_class()\n",
    "example_obj.task()\n",
    "example_obj.cetak(200)\n",
    " \n",
    "print(\"test_obj is instance of Absclass? \", isinstance(test_obj, Absclass))\n",
    "print(\"example_obj is instance of Absclass? \", isinstance(example_obj, Absclass))"
   ]
  },
  {
   "cell_type": "code",
   "execution_count": 42,
   "metadata": {},
   "outputs": [],
   "source": [
    "class Kendaraan(ABC):\n",
    "    \n",
    "    @abstractmethod\n",
    "    def suara(self):\n",
    "        pass\n",
    "    \n",
    "class Mobil(Kendaraan):\n",
    "    def suara(self):\n",
    "        print(\"ngenggg\")\n",
    "        \n",
    "class Motor(Kendaraan):\n",
    "    def suara(self):\n",
    "        print(\"bemmmm\")"
   ]
  },
  {
   "cell_type": "code",
   "execution_count": 43,
   "metadata": {},
   "outputs": [
    {
     "name": "stdout",
     "output_type": "stream",
     "text": [
      "ngenggg\n",
      "bemmmm\n"
     ]
    }
   ],
   "source": [
    "mobil1 = Mobil()\n",
    "\n",
    "motor1 = Motor()\n",
    "\n",
    "mobil1.suara()\n",
    "motor1.suara()"
   ]
  },
  {
   "cell_type": "markdown",
   "metadata": {
    "id": "lLLHjBNp1HDe"
   },
   "source": [
    "## **Polymorphism**"
   ]
  },
  {
   "cell_type": "markdown",
   "metadata": {
    "id": "sNHSk46pmTD4"
   },
   "source": [
    "pada contoh dibawah kita bisa lihat contoh polymorphism, dimana kita bisa melihat kalau kelas binatang dapat diturunkan menjadi beberapa class seperti ikan dan panda"
   ]
  },
  {
   "cell_type": "code",
   "execution_count": null,
   "metadata": {
    "colab": {
     "base_uri": "https://localhost:8080/"
    },
    "id": "BZLA6LDrxDHr",
    "outputId": "8dda5f4a-c845-40af-a40b-e81b588dfe5a"
   },
   "outputs": [
    {
     "name": "stdout",
     "output_type": "stream",
     "text": [
      "nama: Jago, usia: 2, jenis: omnivora, mamalia: False\n",
      "warna: Merah Putih, jenis ikan: Cupang, jenis air: Tawar\n",
      "ddrrr... ddrrr... \n",
      "ddrrr... ddrrr... \n",
      "ddrrr... ddrrr... \n",
      "ddrrr... ddrrr... \n",
      "ddrrr... ddrrr... \n",
      "nama: Poo, usia: 4, jenis: herbivora, mamalia: True\n",
      "ddrrr... ddrrr... \n",
      "ddrrr... ddrrr... \n",
      "kenyaang\n"
     ]
    }
   ],
   "source": [
    "class Binatang(object):\n",
    "  def __init__(self, nama, usia, jenis, mamalia):\n",
    "    self.nama = nama\n",
    "    self.usia = usia\n",
    "    self.jenis = jenis\n",
    "    self.mamalia = mamalia\n",
    "\n",
    "  def tidur(self, durasi):\n",
    "    for x in range(durasi):\n",
    "      print(\"ddrrr... ddrrr... \")\n",
    "\n",
    "  def info(self):\n",
    "    print(f\"nama: {self.nama}, usia: {self.usia}, jenis: {self.jenis}, mamalia: {self.mamalia}\")\n",
    "\n",
    "\n",
    "class Ikan(Binatang):\n",
    "  def __init__(self,  nama, usia, jenis, mamalia, warna, jenis_air, jenis_ikan):\n",
    "    super().__init__(nama, usia, jenis, mamalia)\n",
    "    self.warna = warna\n",
    "    self.jenis_air = jenis_air\n",
    "    self.jenis_ikan = jenis_ikan\n",
    "  \n",
    "  def berenang(self, durasi):\n",
    "    print(\"wushh... wush... \")\n",
    "\n",
    "  def info_ikan(self):\n",
    "    print(f\"warna: {self.warna}, jenis ikan: {self.jenis_ikan}, jenis air: {self.jenis_air}\")\n",
    "\n",
    "class Panda(Binatang):\n",
    "  def __init__(self, nama, usia, jenis, mamalia, warna):\n",
    "    super().__init__(nama, usia, jenis, mamalia)\n",
    "    self.warna = warna\n",
    "  \n",
    "  def makan_bambu(self, tangkai):\n",
    "    if tangkai >=5 :\n",
    "      print(\"kenyaang\")\n",
    "    else:\n",
    "      print(\"lapaar\")\n",
    "\n",
    "fish1 = Ikan(\"Jago\", 2, \"omnivora\", False, \"Merah Putih\", \"Tawar\", \"Cupang\")\n",
    "\n",
    "fish1.info()\n",
    "fish1.info_ikan()\n",
    "fish1.tidur(5)\n",
    "\n",
    "\n",
    "panda1 = Panda(\"Poo\", 4, \"herbivora\", True, \"Putih Hitam\")\n",
    "\n",
    "panda1.info()\n",
    "panda1.tidur(2)\n",
    "panda1.makan_bambu(5)"
   ]
  },
  {
   "cell_type": "markdown",
   "metadata": {
    "id": "bse6mJ62GOR1"
   },
   "source": [
    "## **Activity OOP**\n",
    "\n",
    "Buatlah 3 OOP beserta turunannya dari objek sekitar, buat ulang seperti yang diatas (encapsulation, abstaction, inheritance, polymorphism)\n",
    "\n",
    "setelah jadikan custom modules"
   ]
  },
  {
   "cell_type": "code",
   "execution_count": null,
   "metadata": {},
   "outputs": [],
   "source": []
  }
 ],
 "metadata": {
  "colab": {
   "collapsed_sections": [],
   "name": "Functions, OOP.ipynb",
   "provenance": []
  },
  "kernelspec": {
   "display_name": "Python 3 (ipykernel)",
   "language": "python",
   "name": "python3"
  },
  "language_info": {
   "codemirror_mode": {
    "name": "ipython",
    "version": 3
   },
   "file_extension": ".py",
   "mimetype": "text/x-python",
   "name": "python",
   "nbconvert_exporter": "python",
   "pygments_lexer": "ipython3",
   "version": "3.9.7"
  }
 },
 "nbformat": 4,
 "nbformat_minor": 1
}
